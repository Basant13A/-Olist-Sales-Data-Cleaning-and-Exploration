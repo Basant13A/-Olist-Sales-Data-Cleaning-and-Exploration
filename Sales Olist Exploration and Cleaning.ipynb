{
 "cells": [
  {
   "cell_type": "markdown",
   "id": "3d17e004-7aeb-42d0-a856-9422b0fd5f77",
   "metadata": {},
   "source": [
    "## Liberaries"
   ]
  },
  {
   "cell_type": "code",
   "execution_count": 393,
   "id": "5c0238e8-e502-4ead-b2ff-bffb6777c470",
   "metadata": {},
   "outputs": [],
   "source": [
    "import pandas as pd\n",
    "import numpy as np\n",
    "import matplotlib.pyplot as plt\n",
    "import seaborn as sns"
   ]
  },
  {
   "cell_type": "markdown",
   "id": "3bc9337d-8d78-443d-95b5-28381431db61",
   "metadata": {},
   "source": [
    "## Importing Data"
   ]
  },
  {
   "cell_type": "code",
   "execution_count": 394,
   "id": "b76ce0cf-ee43-4070-8927-1c991631e4ba",
   "metadata": {},
   "outputs": [],
   "source": [
    "olist_sales=pd.read_csv(r\"Sales Olist Dataset.csv\")"
   ]
  },
  {
   "cell_type": "code",
   "execution_count": 395,
   "id": "1478d287-7dcc-49e3-952e-cb8941cdcbf9",
   "metadata": {},
   "outputs": [
    {
     "data": {
      "text/html": [
       "<div>\n",
       "<style scoped>\n",
       "    .dataframe tbody tr th:only-of-type {\n",
       "        vertical-align: middle;\n",
       "    }\n",
       "\n",
       "    .dataframe tbody tr th {\n",
       "        vertical-align: top;\n",
       "    }\n",
       "\n",
       "    .dataframe thead th {\n",
       "        text-align: right;\n",
       "    }\n",
       "</style>\n",
       "<table border=\"1\" class=\"dataframe\">\n",
       "  <thead>\n",
       "    <tr style=\"text-align: right;\">\n",
       "      <th></th>\n",
       "      <th>order_id</th>\n",
       "      <th>order_status</th>\n",
       "      <th>order_date</th>\n",
       "      <th>order_estimated_delivery_date</th>\n",
       "      <th>order_delivered_customer_date</th>\n",
       "      <th>price</th>\n",
       "      <th>freight_value</th>\n",
       "      <th>payment_type</th>\n",
       "      <th>payment_value</th>\n",
       "    </tr>\n",
       "  </thead>\n",
       "  <tbody>\n",
       "    <tr>\n",
       "      <th>0</th>\n",
       "      <td>00010242fe8c5a6d1ba2dd792cb16214</td>\n",
       "      <td>delivered</td>\n",
       "      <td>9/13/2017 8:59</td>\n",
       "      <td>9/29/2017 0:00</td>\n",
       "      <td>9/20/2017 23:43</td>\n",
       "      <td>58.9</td>\n",
       "      <td>13.29</td>\n",
       "      <td>credit_card</td>\n",
       "      <td>72.19</td>\n",
       "    </tr>\n",
       "    <tr>\n",
       "      <th>1</th>\n",
       "      <td>b81ef226f3fe1789b1e8b2acac839d17</td>\n",
       "      <td>delivered</td>\n",
       "      <td>4/25/2018 22:01</td>\n",
       "      <td>5/22/2018 0:00</td>\n",
       "      <td>5/9/2018 17:36</td>\n",
       "      <td>79.8</td>\n",
       "      <td>19.53</td>\n",
       "      <td>credit_card</td>\n",
       "      <td>99.33</td>\n",
       "    </tr>\n",
       "    <tr>\n",
       "      <th>2</th>\n",
       "      <td>53cdb2fc8bc7dce0b6741e2150273451</td>\n",
       "      <td>delivered</td>\n",
       "      <td>7/24/2018 20:41</td>\n",
       "      <td>8/13/2018 0:00</td>\n",
       "      <td>8/7/2018 15:27</td>\n",
       "      <td>118.7</td>\n",
       "      <td>22.76</td>\n",
       "      <td>boleto</td>\n",
       "      <td>141.46</td>\n",
       "    </tr>\n",
       "    <tr>\n",
       "      <th>3</th>\n",
       "      <td>a9810da82917af2d9aefd1278f1dcfa0</td>\n",
       "      <td>delivered</td>\n",
       "      <td>6/26/2018 11:01</td>\n",
       "      <td>7/16/2018 0:00</td>\n",
       "      <td>6/29/2018 20:32</td>\n",
       "      <td>17.0</td>\n",
       "      <td>7.39</td>\n",
       "      <td>credit_card</td>\n",
       "      <td>24.39</td>\n",
       "    </tr>\n",
       "    <tr>\n",
       "      <th>4</th>\n",
       "      <td>00018f77f2f0320c557190d7a144bdd3</td>\n",
       "      <td>delivered</td>\n",
       "      <td>4/26/2017 10:53</td>\n",
       "      <td>5/15/2017 0:00</td>\n",
       "      <td>5/12/2017 16:04</td>\n",
       "      <td>239.9</td>\n",
       "      <td>19.93</td>\n",
       "      <td>credit_card</td>\n",
       "      <td>259.83</td>\n",
       "    </tr>\n",
       "    <tr>\n",
       "      <th>...</th>\n",
       "      <td>...</td>\n",
       "      <td>...</td>\n",
       "      <td>...</td>\n",
       "      <td>...</td>\n",
       "      <td>...</td>\n",
       "      <td>...</td>\n",
       "      <td>...</td>\n",
       "      <td>...</td>\n",
       "      <td>...</td>\n",
       "    </tr>\n",
       "    <tr>\n",
       "      <th>118429</th>\n",
       "      <td>aaab15da689073f8f9aa978a390a69d1</td>\n",
       "      <td>unavailable</td>\n",
       "      <td>1/16/2018 14:27</td>\n",
       "      <td>2/6/2018 0:00</td>\n",
       "      <td>NaN</td>\n",
       "      <td>NaN</td>\n",
       "      <td>NaN</td>\n",
       "      <td>boleto</td>\n",
       "      <td>210.09</td>\n",
       "    </tr>\n",
       "    <tr>\n",
       "      <th>118430</th>\n",
       "      <td>3a3cddda5a7c27851bd96c3313412840</td>\n",
       "      <td>canceled</td>\n",
       "      <td>8/31/2018 16:13</td>\n",
       "      <td>10/1/2018 0:00</td>\n",
       "      <td>NaN</td>\n",
       "      <td>NaN</td>\n",
       "      <td>NaN</td>\n",
       "      <td>voucher</td>\n",
       "      <td>63.89</td>\n",
       "    </tr>\n",
       "    <tr>\n",
       "      <th>118431</th>\n",
       "      <td>a89abace0dcc01eeb267a9660b5ac126</td>\n",
       "      <td>canceled</td>\n",
       "      <td>9/6/2018 18:45</td>\n",
       "      <td>9/27/2018 0:00</td>\n",
       "      <td>NaN</td>\n",
       "      <td>NaN</td>\n",
       "      <td>NaN</td>\n",
       "      <td>voucher</td>\n",
       "      <td>107.13</td>\n",
       "    </tr>\n",
       "    <tr>\n",
       "      <th>118432</th>\n",
       "      <td>a69ba794cc7deb415c3e15a0a3877e69</td>\n",
       "      <td>unavailable</td>\n",
       "      <td>8/23/2017 16:28</td>\n",
       "      <td>9/15/2017 0:00</td>\n",
       "      <td>NaN</td>\n",
       "      <td>NaN</td>\n",
       "      <td>NaN</td>\n",
       "      <td>credit_card</td>\n",
       "      <td>195.91</td>\n",
       "    </tr>\n",
       "    <tr>\n",
       "      <th>118433</th>\n",
       "      <td>5fabc81b6322c8443648e1b21a6fef21</td>\n",
       "      <td>unavailable</td>\n",
       "      <td>10/10/2017 10:50</td>\n",
       "      <td>10/23/2017 0:00</td>\n",
       "      <td>NaN</td>\n",
       "      <td>NaN</td>\n",
       "      <td>NaN</td>\n",
       "      <td>boleto</td>\n",
       "      <td>133.97</td>\n",
       "    </tr>\n",
       "  </tbody>\n",
       "</table>\n",
       "<p>118434 rows × 9 columns</p>\n",
       "</div>"
      ],
      "text/plain": [
       "                                order_id order_status        order_date  \\\n",
       "0       00010242fe8c5a6d1ba2dd792cb16214    delivered    9/13/2017 8:59   \n",
       "1       b81ef226f3fe1789b1e8b2acac839d17    delivered   4/25/2018 22:01   \n",
       "2       53cdb2fc8bc7dce0b6741e2150273451    delivered   7/24/2018 20:41   \n",
       "3       a9810da82917af2d9aefd1278f1dcfa0    delivered   6/26/2018 11:01   \n",
       "4       00018f77f2f0320c557190d7a144bdd3    delivered   4/26/2017 10:53   \n",
       "...                                  ...          ...               ...   \n",
       "118429  aaab15da689073f8f9aa978a390a69d1  unavailable   1/16/2018 14:27   \n",
       "118430  3a3cddda5a7c27851bd96c3313412840     canceled   8/31/2018 16:13   \n",
       "118431  a89abace0dcc01eeb267a9660b5ac126     canceled    9/6/2018 18:45   \n",
       "118432  a69ba794cc7deb415c3e15a0a3877e69  unavailable   8/23/2017 16:28   \n",
       "118433  5fabc81b6322c8443648e1b21a6fef21  unavailable  10/10/2017 10:50   \n",
       "\n",
       "       order_estimated_delivery_date order_delivered_customer_date  price  \\\n",
       "0                     9/29/2017 0:00               9/20/2017 23:43   58.9   \n",
       "1                     5/22/2018 0:00                5/9/2018 17:36   79.8   \n",
       "2                     8/13/2018 0:00                8/7/2018 15:27  118.7   \n",
       "3                     7/16/2018 0:00               6/29/2018 20:32   17.0   \n",
       "4                     5/15/2017 0:00               5/12/2017 16:04  239.9   \n",
       "...                              ...                           ...    ...   \n",
       "118429                 2/6/2018 0:00                           NaN    NaN   \n",
       "118430                10/1/2018 0:00                           NaN    NaN   \n",
       "118431                9/27/2018 0:00                           NaN    NaN   \n",
       "118432                9/15/2017 0:00                           NaN    NaN   \n",
       "118433               10/23/2017 0:00                           NaN    NaN   \n",
       "\n",
       "        freight_value payment_type  payment_value  \n",
       "0               13.29  credit_card          72.19  \n",
       "1               19.53  credit_card          99.33  \n",
       "2               22.76       boleto         141.46  \n",
       "3                7.39  credit_card          24.39  \n",
       "4               19.93  credit_card         259.83  \n",
       "...               ...          ...            ...  \n",
       "118429            NaN       boleto         210.09  \n",
       "118430            NaN      voucher          63.89  \n",
       "118431            NaN      voucher         107.13  \n",
       "118432            NaN  credit_card         195.91  \n",
       "118433            NaN       boleto         133.97  \n",
       "\n",
       "[118434 rows x 9 columns]"
      ]
     },
     "execution_count": 395,
     "metadata": {},
     "output_type": "execute_result"
    }
   ],
   "source": [
    "olist_sales"
   ]
  },
  {
   "cell_type": "markdown",
   "id": "bfdd0b4f-ec26-4638-b0b5-3e431d669d26",
   "metadata": {},
   "source": [
    "## Exploring Data"
   ]
  },
  {
   "cell_type": "code",
   "execution_count": 396,
   "id": "afe2d01c-dfa6-49b4-bda4-cfc49e2e2ad8",
   "metadata": {},
   "outputs": [
    {
     "name": "stdout",
     "output_type": "stream",
     "text": [
      "<class 'pandas.core.frame.DataFrame'>\n",
      "RangeIndex: 118434 entries, 0 to 118433\n",
      "Data columns (total 9 columns):\n",
      " #   Column                         Non-Null Count   Dtype  \n",
      "---  ------                         --------------   -----  \n",
      " 0   order_id                       118434 non-null  object \n",
      " 1   order_status                   118434 non-null  object \n",
      " 2   order_date                     118434 non-null  object \n",
      " 3   order_estimated_delivery_date  118434 non-null  object \n",
      " 4   order_delivered_customer_date  115037 non-null  object \n",
      " 5   price                          117604 non-null  float64\n",
      " 6   freight_value                  117604 non-null  float64\n",
      " 7   payment_type                   118431 non-null  object \n",
      " 8   payment_value                  118431 non-null  float64\n",
      "dtypes: float64(3), object(6)\n",
      "memory usage: 8.1+ MB\n"
     ]
    }
   ],
   "source": [
    "olist_sales.info()"
   ]
  },
  {
   "cell_type": "code",
   "execution_count": 397,
   "id": "d78c3149-596d-479e-bed8-9365917625aa",
   "metadata": {},
   "outputs": [
    {
     "data": {
      "text/plain": [
       "order_id                         99441\n",
       "order_status                         8\n",
       "order_date                       88789\n",
       "order_estimated_delivery_date      459\n",
       "order_delivered_customer_date    75649\n",
       "price                             5968\n",
       "freight_value                     6999\n",
       "payment_type                         5\n",
       "payment_value                    29077\n",
       "dtype: int64"
      ]
     },
     "execution_count": 397,
     "metadata": {},
     "output_type": "execute_result"
    }
   ],
   "source": [
    "olist_sales.nunique()"
   ]
  },
  {
   "cell_type": "code",
   "execution_count": 398,
   "id": "e1328f18-efb4-415a-aef6-c5149d10eaf8",
   "metadata": {},
   "outputs": [
    {
     "data": {
      "text/plain": [
       "array(['delivered', 'invoiced', 'canceled', 'shipped', 'processing',\n",
       "       'approved', 'unavailable', 'created'], dtype=object)"
      ]
     },
     "execution_count": 398,
     "metadata": {},
     "output_type": "execute_result"
    }
   ],
   "source": [
    "olist_sales[\"order_status\"].unique()"
   ]
  },
  {
   "cell_type": "code",
   "execution_count": 399,
   "id": "6e187692-6891-4427-8951-0f62f9639e2a",
   "metadata": {},
   "outputs": [
    {
     "data": {
      "text/plain": [
       "order_status\n",
       "approved            3\n",
       "canceled          745\n",
       "created             5\n",
       "delivered      115038\n",
       "invoiced          373\n",
       "processing        375\n",
       "shipped          1245\n",
       "unavailable       650\n",
       "dtype: int64"
      ]
     },
     "execution_count": 399,
     "metadata": {},
     "output_type": "execute_result"
    }
   ],
   "source": [
    "olist_sales.groupby('order_status').size()"
   ]
  },
  {
   "cell_type": "code",
   "execution_count": 400,
   "id": "0b9e0340-0d12-4d5e-b9e4-0aedc3ef239a",
   "metadata": {},
   "outputs": [
    {
     "data": {
      "image/png": "[encoded data removed]",
      "text/plain": [
       "<Figure size 1500x300 with 1 Axes>"
      ]
     },
     "metadata": {},
     "output_type": "display_data"
    }
   ],
   "source": [
    "plt.figure(figsize=(15,3))\n",
    "sns.countplot(y=olist_sales[\"order_status\"], order = olist_sales[\"order_status\"].value_counts().index, color=\"#A25F5B\")\n",
    "plt.title(\"Order Status Distribution\")\n",
    "plt.xlabel(\"Count\")\n",
    "plt.ylabel(\"Order Status\")\n",
    "plt.show()"
   ]
  },
  {
   "cell_type": "code",
   "execution_count": 401,
   "id": "9089e409-210d-4575-9985-d03ad6771a96",
   "metadata": {},
   "outputs": [
    {
     "data": {
      "text/plain": [
       "array(['credit_card', 'boleto', 'voucher', 'debit_card', nan,\n",
       "       'not_defined'], dtype=object)"
      ]
     },
     "execution_count": 401,
     "metadata": {},
     "output_type": "execute_result"
    }
   ],
   "source": [
    "olist_sales[\"payment_type\"].unique()"
   ]
  },
  {
   "cell_type": "code",
   "execution_count": 402,
   "id": "876e3fd5-929d-4aad-85f8-4741d6ca53fe",
   "metadata": {},
   "outputs": [
    {
     "data": {
      "image/png": "[encoded data removed]",
      "text/plain": [
       "<Figure size 1500x300 with 1 Axes>"
      ]
     },
     "metadata": {},
     "output_type": "display_data"
    }
   ],
   "source": [
    "plt.figure(figsize=(15,3))\n",
    "sns.countplot(y=olist_sales[\"payment_type\"], order = olist_sales[\"payment_type\"].value_counts().index, color=\"#A25F5B\")\n",
    "plt.title(\"Order Payment Type Distribution\")\n",
    "plt.xlabel(\"Count\")\n",
    "plt.ylabel(\"Payment Type\")\n",
    "plt.show()"
   ]
  },
  {
   "cell_type": "code",
   "execution_count": 403,
   "id": "d99373cf-f2ca-47e7-be8e-c16d79be3150",
   "metadata": {},
   "outputs": [
    {
     "data": {
      "text/plain": [
       "payment_type\n",
       "boleto         23037\n",
       "credit_card    87286\n",
       "debit_card      1698\n",
       "not_defined        3\n",
       "voucher         6407\n",
       "dtype: int64"
      ]
     },
     "execution_count": 403,
     "metadata": {},
     "output_type": "execute_result"
    }
   ],
   "source": [
    "olist_sales.groupby(\"payment_type\").size()"
   ]
  },
  {
   "cell_type": "code",
   "execution_count": 404,
   "id": "0bb19785-7a8f-4578-af98-10e98a7d6402",
   "metadata": {},
   "outputs": [
    {
     "name": "stdout",
     "output_type": "stream",
     "text": [
      "order_id                          object\n",
      "order_status                      object\n",
      "order_date                        object\n",
      "order_estimated_delivery_date     object\n",
      "order_delivered_customer_date     object\n",
      "price                            float64\n",
      "freight_value                    float64\n",
      "payment_type                      object\n",
      "payment_value                    float64\n",
      "dtype: object\n"
     ]
    }
   ],
   "source": [
    "print(olist_sales.dtypes)"
   ]
  },
  {
   "cell_type": "markdown",
   "id": "039101ae-c669-4c9f-8384-a2b6a78d1e37",
   "metadata": {},
   "source": [
    "##### The data in date columns is not read as date type."
   ]
  },
  {
   "cell_type": "code",
   "execution_count": 405,
   "id": "aaf65ab5-354d-4229-9cab-859c666597ef",
   "metadata": {},
   "outputs": [
    {
     "data": {
      "text/plain": [
       "order_id                            0\n",
       "order_status                        0\n",
       "order_date                          0\n",
       "order_estimated_delivery_date       0\n",
       "order_delivered_customer_date    3397\n",
       "price                             830\n",
       "freight_value                     830\n",
       "payment_type                        3\n",
       "payment_value                       3\n",
       "dtype: int64"
      ]
     },
     "execution_count": 405,
     "metadata": {},
     "output_type": "execute_result"
    }
   ],
   "source": [
    "olist_sales.isnull().sum()"
   ]
  },
  {
   "cell_type": "markdown",
   "id": "b67ea918-3d01-4c41-b86a-00a8a006c3be",
   "metadata": {},
   "source": [
    "##### There are around 830 null cells in both columns freight_value and price, 3 null cells in both payment_vaue and payment_type columns, and 3397 in order_delivered_customer_date column."
   ]
  },
  {
   "cell_type": "code",
   "execution_count": 406,
   "id": "9208cf10-50f1-4165-bbb0-f0430c9a427f",
   "metadata": {},
   "outputs": [
    {
     "data": {
      "text/html": [
       "<div>\n",
       "<style scoped>\n",
       "    .dataframe tbody tr th:only-of-type {\n",
       "        vertical-align: middle;\n",
       "    }\n",
       "\n",
       "    .dataframe tbody tr th {\n",
       "        vertical-align: top;\n",
       "    }\n",
       "\n",
       "    .dataframe thead th {\n",
       "        text-align: right;\n",
       "    }\n",
       "</style>\n",
       "<table border=\"1\" class=\"dataframe\">\n",
       "  <thead>\n",
       "    <tr style=\"text-align: right;\">\n",
       "      <th></th>\n",
       "      <th>order_id</th>\n",
       "      <th>order_status</th>\n",
       "      <th>order_date</th>\n",
       "      <th>order_estimated_delivery_date</th>\n",
       "      <th>order_delivered_customer_date</th>\n",
       "      <th>price</th>\n",
       "      <th>freight_value</th>\n",
       "      <th>payment_type</th>\n",
       "      <th>payment_value</th>\n",
       "    </tr>\n",
       "  </thead>\n",
       "  <tbody>\n",
       "    <tr>\n",
       "      <th>82444</th>\n",
       "      <td>bfbd0f9bdef84302105ad712db648a6c</td>\n",
       "      <td>delivered</td>\n",
       "      <td>9/15/2016 12:16</td>\n",
       "      <td>10/4/2016 0:00</td>\n",
       "      <td>11/9/2016 7:47</td>\n",
       "      <td>44.99</td>\n",
       "      <td>2.83</td>\n",
       "      <td>NaN</td>\n",
       "      <td>NaN</td>\n",
       "    </tr>\n",
       "    <tr>\n",
       "      <th>82445</th>\n",
       "      <td>bfbd0f9bdef84302105ad712db648a6c</td>\n",
       "      <td>delivered</td>\n",
       "      <td>9/15/2016 12:16</td>\n",
       "      <td>10/4/2016 0:00</td>\n",
       "      <td>11/9/2016 7:47</td>\n",
       "      <td>44.99</td>\n",
       "      <td>2.83</td>\n",
       "      <td>NaN</td>\n",
       "      <td>NaN</td>\n",
       "    </tr>\n",
       "    <tr>\n",
       "      <th>82446</th>\n",
       "      <td>bfbd0f9bdef84302105ad712db648a6c</td>\n",
       "      <td>delivered</td>\n",
       "      <td>9/15/2016 12:16</td>\n",
       "      <td>10/4/2016 0:00</td>\n",
       "      <td>11/9/2016 7:47</td>\n",
       "      <td>44.99</td>\n",
       "      <td>2.83</td>\n",
       "      <td>NaN</td>\n",
       "      <td>NaN</td>\n",
       "    </tr>\n",
       "  </tbody>\n",
       "</table>\n",
       "</div>"
      ],
      "text/plain": [
       "                               order_id order_status       order_date  \\\n",
       "82444  bfbd0f9bdef84302105ad712db648a6c    delivered  9/15/2016 12:16   \n",
       "82445  bfbd0f9bdef84302105ad712db648a6c    delivered  9/15/2016 12:16   \n",
       "82446  bfbd0f9bdef84302105ad712db648a6c    delivered  9/15/2016 12:16   \n",
       "\n",
       "      order_estimated_delivery_date order_delivered_customer_date  price  \\\n",
       "82444                10/4/2016 0:00                11/9/2016 7:47  44.99   \n",
       "82445                10/4/2016 0:00                11/9/2016 7:47  44.99   \n",
       "82446                10/4/2016 0:00                11/9/2016 7:47  44.99   \n",
       "\n",
       "       freight_value payment_type  payment_value  \n",
       "82444           2.83          NaN            NaN  \n",
       "82445           2.83          NaN            NaN  \n",
       "82446           2.83          NaN            NaN  "
      ]
     },
     "execution_count": 406,
     "metadata": {},
     "output_type": "execute_result"
    }
   ],
   "source": [
    "olist_sales[olist_sales['payment_type'].isna()]"
   ]
  },
  {
   "cell_type": "code",
   "execution_count": 407,
   "id": "99815b95-0376-42ae-a8ea-fe332d252ea9",
   "metadata": {},
   "outputs": [
    {
     "data": {
      "text/html": [
       "<div>\n",
       "<style scoped>\n",
       "    .dataframe tbody tr th:only-of-type {\n",
       "        vertical-align: middle;\n",
       "    }\n",
       "\n",
       "    .dataframe tbody tr th {\n",
       "        vertical-align: top;\n",
       "    }\n",
       "\n",
       "    .dataframe thead th {\n",
       "        text-align: right;\n",
       "    }\n",
       "</style>\n",
       "<table border=\"1\" class=\"dataframe\">\n",
       "  <thead>\n",
       "    <tr style=\"text-align: right;\">\n",
       "      <th></th>\n",
       "      <th>order_id</th>\n",
       "      <th>order_status</th>\n",
       "      <th>order_date</th>\n",
       "      <th>order_estimated_delivery_date</th>\n",
       "      <th>order_delivered_customer_date</th>\n",
       "      <th>price</th>\n",
       "      <th>freight_value</th>\n",
       "      <th>payment_type</th>\n",
       "      <th>payment_value</th>\n",
       "    </tr>\n",
       "  </thead>\n",
       "  <tbody>\n",
       "    <tr>\n",
       "      <th>82444</th>\n",
       "      <td>bfbd0f9bdef84302105ad712db648a6c</td>\n",
       "      <td>delivered</td>\n",
       "      <td>9/15/2016 12:16</td>\n",
       "      <td>10/4/2016 0:00</td>\n",
       "      <td>11/9/2016 7:47</td>\n",
       "      <td>44.99</td>\n",
       "      <td>2.83</td>\n",
       "      <td>NaN</td>\n",
       "      <td>NaN</td>\n",
       "    </tr>\n",
       "    <tr>\n",
       "      <th>82445</th>\n",
       "      <td>bfbd0f9bdef84302105ad712db648a6c</td>\n",
       "      <td>delivered</td>\n",
       "      <td>9/15/2016 12:16</td>\n",
       "      <td>10/4/2016 0:00</td>\n",
       "      <td>11/9/2016 7:47</td>\n",
       "      <td>44.99</td>\n",
       "      <td>2.83</td>\n",
       "      <td>NaN</td>\n",
       "      <td>NaN</td>\n",
       "    </tr>\n",
       "    <tr>\n",
       "      <th>82446</th>\n",
       "      <td>bfbd0f9bdef84302105ad712db648a6c</td>\n",
       "      <td>delivered</td>\n",
       "      <td>9/15/2016 12:16</td>\n",
       "      <td>10/4/2016 0:00</td>\n",
       "      <td>11/9/2016 7:47</td>\n",
       "      <td>44.99</td>\n",
       "      <td>2.83</td>\n",
       "      <td>NaN</td>\n",
       "      <td>NaN</td>\n",
       "    </tr>\n",
       "  </tbody>\n",
       "</table>\n",
       "</div>"
      ],
      "text/plain": [
       "                               order_id order_status       order_date  \\\n",
       "82444  bfbd0f9bdef84302105ad712db648a6c    delivered  9/15/2016 12:16   \n",
       "82445  bfbd0f9bdef84302105ad712db648a6c    delivered  9/15/2016 12:16   \n",
       "82446  bfbd0f9bdef84302105ad712db648a6c    delivered  9/15/2016 12:16   \n",
       "\n",
       "      order_estimated_delivery_date order_delivered_customer_date  price  \\\n",
       "82444                10/4/2016 0:00                11/9/2016 7:47  44.99   \n",
       "82445                10/4/2016 0:00                11/9/2016 7:47  44.99   \n",
       "82446                10/4/2016 0:00                11/9/2016 7:47  44.99   \n",
       "\n",
       "       freight_value payment_type  payment_value  \n",
       "82444           2.83          NaN            NaN  \n",
       "82445           2.83          NaN            NaN  \n",
       "82446           2.83          NaN            NaN  "
      ]
     },
     "execution_count": 407,
     "metadata": {},
     "output_type": "execute_result"
    }
   ],
   "source": [
    "olist_sales[olist_sales['payment_value'].isna()]"
   ]
  },
  {
   "cell_type": "markdown",
   "id": "82875afc-567e-4c28-875d-7b1de2656c53",
   "metadata": {},
   "source": [
    "##### It seems that the 3 null cells are for 3 orders where the payments were not payed yet."
   ]
  },
  {
   "cell_type": "code",
   "execution_count": 408,
   "id": "276e5619-6caa-488d-ae60-f12dab360698",
   "metadata": {},
   "outputs": [
    {
     "data": {
      "text/plain": [
       "order_status\n",
       "approved          3\n",
       "canceled        738\n",
       "created           5\n",
       "delivered         8\n",
       "invoiced        373\n",
       "processing      375\n",
       "shipped        1245\n",
       "unavailable     650\n",
       "dtype: int64"
      ]
     },
     "execution_count": 408,
     "metadata": {},
     "output_type": "execute_result"
    }
   ],
   "source": [
    "olist_sales[olist_sales['order_delivered_customer_date'].isna()].groupby('order_status').size()"
   ]
  },
  {
   "cell_type": "code",
   "execution_count": 409,
   "id": "bf0bd88c-124e-470e-a7bb-ed77a188171d",
   "metadata": {},
   "outputs": [
    {
     "data": {
      "text/html": [
       "<div>\n",
       "<style scoped>\n",
       "    .dataframe tbody tr th:only-of-type {\n",
       "        vertical-align: middle;\n",
       "    }\n",
       "\n",
       "    .dataframe tbody tr th {\n",
       "        vertical-align: top;\n",
       "    }\n",
       "\n",
       "    .dataframe thead th {\n",
       "        text-align: right;\n",
       "    }\n",
       "</style>\n",
       "<table border=\"1\" class=\"dataframe\">\n",
       "  <thead>\n",
       "    <tr style=\"text-align: right;\">\n",
       "      <th></th>\n",
       "      <th>order_id</th>\n",
       "      <th>order_status</th>\n",
       "      <th>order_date</th>\n",
       "      <th>order_estimated_delivery_date</th>\n",
       "      <th>order_delivered_customer_date</th>\n",
       "      <th>price</th>\n",
       "      <th>freight_value</th>\n",
       "      <th>payment_type</th>\n",
       "      <th>payment_value</th>\n",
       "    </tr>\n",
       "  </thead>\n",
       "  <tbody>\n",
       "    <tr>\n",
       "      <th>12740</th>\n",
       "      <td>2d1e2d5bf4dc7227b3bfebb81328c15f</td>\n",
       "      <td>delivered</td>\n",
       "      <td>11/28/2017 17:44</td>\n",
       "      <td>12/18/2017 0:00</td>\n",
       "      <td>NaN</td>\n",
       "      <td>117.30</td>\n",
       "      <td>17.53</td>\n",
       "      <td>credit_card</td>\n",
       "      <td>134.83</td>\n",
       "    </tr>\n",
       "    <tr>\n",
       "      <th>16151</th>\n",
       "      <td>0d3268bad9b086af767785e3f0fc0133</td>\n",
       "      <td>delivered</td>\n",
       "      <td>7/1/2018 21:14</td>\n",
       "      <td>7/24/2018 0:00</td>\n",
       "      <td>NaN</td>\n",
       "      <td>188.99</td>\n",
       "      <td>15.63</td>\n",
       "      <td>credit_card</td>\n",
       "      <td>204.62</td>\n",
       "    </tr>\n",
       "    <tr>\n",
       "      <th>21473</th>\n",
       "      <td>20edc82cf5400ce95e1afacc25798b31</td>\n",
       "      <td>delivered</td>\n",
       "      <td>6/27/2018 16:09</td>\n",
       "      <td>7/19/2018 0:00</td>\n",
       "      <td>NaN</td>\n",
       "      <td>45.90</td>\n",
       "      <td>9.07</td>\n",
       "      <td>credit_card</td>\n",
       "      <td>54.97</td>\n",
       "    </tr>\n",
       "    <tr>\n",
       "      <th>52331</th>\n",
       "      <td>2ebdfc4f15f23b91474edf87475f108e</td>\n",
       "      <td>delivered</td>\n",
       "      <td>7/1/2018 17:05</td>\n",
       "      <td>7/30/2018 0:00</td>\n",
       "      <td>NaN</td>\n",
       "      <td>139.00</td>\n",
       "      <td>19.07</td>\n",
       "      <td>credit_card</td>\n",
       "      <td>158.07</td>\n",
       "    </tr>\n",
       "    <tr>\n",
       "      <th>63180</th>\n",
       "      <td>2d858f451373b04fb5c984a1cc2defaf</td>\n",
       "      <td>delivered</td>\n",
       "      <td>5/25/2017 23:22</td>\n",
       "      <td>6/23/2017 0:00</td>\n",
       "      <td>NaN</td>\n",
       "      <td>179.00</td>\n",
       "      <td>15.00</td>\n",
       "      <td>credit_card</td>\n",
       "      <td>194.00</td>\n",
       "    </tr>\n",
       "    <tr>\n",
       "      <th>88290</th>\n",
       "      <td>e69f75a717d64fc5ecdfae42b2e8e086</td>\n",
       "      <td>delivered</td>\n",
       "      <td>7/1/2018 22:05</td>\n",
       "      <td>7/30/2018 0:00</td>\n",
       "      <td>NaN</td>\n",
       "      <td>139.00</td>\n",
       "      <td>19.07</td>\n",
       "      <td>credit_card</td>\n",
       "      <td>158.07</td>\n",
       "    </tr>\n",
       "    <tr>\n",
       "      <th>107426</th>\n",
       "      <td>ab7c89dc1bf4a1ead9d6ec1ec8968a84</td>\n",
       "      <td>delivered</td>\n",
       "      <td>6/8/2018 12:09</td>\n",
       "      <td>6/26/2018 0:00</td>\n",
       "      <td>NaN</td>\n",
       "      <td>110.99</td>\n",
       "      <td>9.13</td>\n",
       "      <td>credit_card</td>\n",
       "      <td>120.12</td>\n",
       "    </tr>\n",
       "    <tr>\n",
       "      <th>112893</th>\n",
       "      <td>f5dd62b788049ad9fc0526e3ad11a097</td>\n",
       "      <td>delivered</td>\n",
       "      <td>6/20/2018 6:58</td>\n",
       "      <td>7/16/2018 0:00</td>\n",
       "      <td>NaN</td>\n",
       "      <td>329.00</td>\n",
       "      <td>25.24</td>\n",
       "      <td>debit_card</td>\n",
       "      <td>354.24</td>\n",
       "    </tr>\n",
       "  </tbody>\n",
       "</table>\n",
       "</div>"
      ],
      "text/plain": [
       "                                order_id order_status        order_date  \\\n",
       "12740   2d1e2d5bf4dc7227b3bfebb81328c15f    delivered  11/28/2017 17:44   \n",
       "16151   0d3268bad9b086af767785e3f0fc0133    delivered    7/1/2018 21:14   \n",
       "21473   20edc82cf5400ce95e1afacc25798b31    delivered   6/27/2018 16:09   \n",
       "52331   2ebdfc4f15f23b91474edf87475f108e    delivered    7/1/2018 17:05   \n",
       "63180   2d858f451373b04fb5c984a1cc2defaf    delivered   5/25/2017 23:22   \n",
       "88290   e69f75a717d64fc5ecdfae42b2e8e086    delivered    7/1/2018 22:05   \n",
       "107426  ab7c89dc1bf4a1ead9d6ec1ec8968a84    delivered    6/8/2018 12:09   \n",
       "112893  f5dd62b788049ad9fc0526e3ad11a097    delivered    6/20/2018 6:58   \n",
       "\n",
       "       order_estimated_delivery_date order_delivered_customer_date   price  \\\n",
       "12740                12/18/2017 0:00                           NaN  117.30   \n",
       "16151                 7/24/2018 0:00                           NaN  188.99   \n",
       "21473                 7/19/2018 0:00                           NaN   45.90   \n",
       "52331                 7/30/2018 0:00                           NaN  139.00   \n",
       "63180                 6/23/2017 0:00                           NaN  179.00   \n",
       "88290                 7/30/2018 0:00                           NaN  139.00   \n",
       "107426                6/26/2018 0:00                           NaN  110.99   \n",
       "112893                7/16/2018 0:00                           NaN  329.00   \n",
       "\n",
       "        freight_value payment_type  payment_value  \n",
       "12740           17.53  credit_card         134.83  \n",
       "16151           15.63  credit_card         204.62  \n",
       "21473            9.07  credit_card          54.97  \n",
       "52331           19.07  credit_card         158.07  \n",
       "63180           15.00  credit_card         194.00  \n",
       "88290           19.07  credit_card         158.07  \n",
       "107426           9.13  credit_card         120.12  \n",
       "112893          25.24   debit_card         354.24  "
      ]
     },
     "execution_count": 409,
     "metadata": {},
     "output_type": "execute_result"
    }
   ],
   "source": [
    "olist_sales[(olist_sales['order_delivered_customer_date'].isna()) & (olist_sales['order_status']=='delivered')]"
   ]
  },
  {
   "cell_type": "markdown",
   "id": "129649fe-2399-4c88-b81b-9248c9de9ab8",
   "metadata": {},
   "source": [
    "##### There are around 8 orders where the order was marked as delivered but has no order_delivered_customer_date date."
   ]
  },
  {
   "cell_type": "code",
   "execution_count": 410,
   "id": "31800e4d-b21e-45e7-8bac-cdcc9d3b2fca",
   "metadata": {},
   "outputs": [
    {
     "data": {
      "text/plain": [
       "order_status\n",
       "canceled          7\n",
       "delivered    115030\n",
       "dtype: int64"
      ]
     },
     "execution_count": 410,
     "metadata": {},
     "output_type": "execute_result"
    }
   ],
   "source": [
    "olist_sales[olist_sales['order_delivered_customer_date'].notna()].groupby('order_status').size()"
   ]
  },
  {
   "cell_type": "markdown",
   "id": "7aabecde-4635-4d25-a8ad-65a6e637c650",
   "metadata": {},
   "source": [
    "##### There are around 7 orders that were canceled after delivery to the customer."
   ]
  },
  {
   "cell_type": "code",
   "execution_count": 411,
   "id": "52add73a-d475-445c-bcbb-f4e1d67708bf",
   "metadata": {},
   "outputs": [
    {
     "data": {
      "text/html": [
       "<div>\n",
       "<style scoped>\n",
       "    .dataframe tbody tr th:only-of-type {\n",
       "        vertical-align: middle;\n",
       "    }\n",
       "\n",
       "    .dataframe tbody tr th {\n",
       "        vertical-align: top;\n",
       "    }\n",
       "\n",
       "    .dataframe thead th {\n",
       "        text-align: right;\n",
       "    }\n",
       "</style>\n",
       "<table border=\"1\" class=\"dataframe\">\n",
       "  <thead>\n",
       "    <tr style=\"text-align: right;\">\n",
       "      <th></th>\n",
       "      <th>freight_value</th>\n",
       "      <th>price</th>\n",
       "      <th>payment_value</th>\n",
       "    </tr>\n",
       "  </thead>\n",
       "  <tbody>\n",
       "    <tr>\n",
       "      <th>freight_value</th>\n",
       "      <td>1.000000</td>\n",
       "      <td>0.415813</td>\n",
       "      <td>0.373891</td>\n",
       "    </tr>\n",
       "    <tr>\n",
       "      <th>price</th>\n",
       "      <td>0.415813</td>\n",
       "      <td>1.000000</td>\n",
       "      <td>0.739501</td>\n",
       "    </tr>\n",
       "    <tr>\n",
       "      <th>payment_value</th>\n",
       "      <td>0.373891</td>\n",
       "      <td>0.739501</td>\n",
       "      <td>1.000000</td>\n",
       "    </tr>\n",
       "  </tbody>\n",
       "</table>\n",
       "</div>"
      ],
      "text/plain": [
       "               freight_value     price  payment_value\n",
       "freight_value       1.000000  0.415813       0.373891\n",
       "price               0.415813  1.000000       0.739501\n",
       "payment_value       0.373891  0.739501       1.000000"
      ]
     },
     "execution_count": 411,
     "metadata": {},
     "output_type": "execute_result"
    }
   ],
   "source": [
    "olist_sales[['freight_value', 'price', 'payment_value']].corr()"
   ]
  },
  {
   "cell_type": "code",
   "execution_count": 412,
   "id": "972a0c26-8656-463a-8d64-a0440794612e",
   "metadata": {},
   "outputs": [
    {
     "data": {
      "image/png": "[encoded data removed]",
      "text/plain": [
       "<Figure size 1500x300 with 1 Axes>"
      ]
     },
     "metadata": {},
     "output_type": "display_data"
    }
   ],
   "source": [
    "plt.figure(figsize=(15,3))\n",
    "sns.scatterplot(x=olist_sales[\"price\"], y=olist_sales[\"payment_value\"], color=\"#A25F5B\")\n",
    "sns.regplot(x=olist_sales[\"price\"], y=olist_sales[\"payment_value\"], scatter=False, color=\"#D3D3D3\") \n",
    "plt.title(\"Price vs Payment Value\")\n",
    "plt.xlabel(\"Price\")\n",
    "plt.ylabel(\"Payment Value\")\n",
    "plt.show()"
   ]
  },
  {
   "cell_type": "code",
   "execution_count": 413,
   "id": "8daf34b4-3624-4bd1-b799-e78e8f01c308",
   "metadata": {},
   "outputs": [
    {
     "data": {
      "image/png": "[encoded data removed]",
      "text/plain": [
       "<Figure size 1500x300 with 1 Axes>"
      ]
     },
     "metadata": {},
     "output_type": "display_data"
    }
   ],
   "source": [
    "plt.figure(figsize=(15,3))\n",
    "sns.scatterplot(x=olist_sales[\"price\"], y=olist_sales[\"freight_value\"], color=\"#A25F5B\")\n",
    "sns.regplot(x=olist_sales[\"price\"], y=olist_sales[\"freight_value\"], scatter=False, color=\"#D3D3D3\") \n",
    "plt.title(\"Price vs Freight Value\")\n",
    "plt.xlabel(\"Price\")\n",
    "plt.ylabel(\"Freight Value\")\n",
    "plt.show()"
   ]
  },
  {
   "cell_type": "markdown",
   "id": "9c214a9e-8c09-446c-9bf1-7b6182801d43",
   "metadata": {},
   "source": [
    "##### The correlation indicates a strong relation between payment_value and the price, and there is also a moderate relation between price and freight_value."
   ]
  },
  {
   "cell_type": "code",
   "execution_count": 414,
   "id": "b391b83d-e827-4535-a4e3-099d907c3da3",
   "metadata": {},
   "outputs": [
    {
     "data": {
      "text/html": [
       "<div>\n",
       "<style scoped>\n",
       "    .dataframe tbody tr th:only-of-type {\n",
       "        vertical-align: middle;\n",
       "    }\n",
       "\n",
       "    .dataframe tbody tr th {\n",
       "        vertical-align: top;\n",
       "    }\n",
       "\n",
       "    .dataframe thead th {\n",
       "        text-align: right;\n",
       "    }\n",
       "</style>\n",
       "<table border=\"1\" class=\"dataframe\">\n",
       "  <thead>\n",
       "    <tr style=\"text-align: right;\">\n",
       "      <th></th>\n",
       "      <th>price</th>\n",
       "      <th>freight_value</th>\n",
       "      <th>payment_value</th>\n",
       "    </tr>\n",
       "  </thead>\n",
       "  <tbody>\n",
       "    <tr>\n",
       "      <th>count</th>\n",
       "      <td>117604.000000</td>\n",
       "      <td>117604.000000</td>\n",
       "      <td>118431.000000</td>\n",
       "    </tr>\n",
       "    <tr>\n",
       "      <th>mean</th>\n",
       "      <td>120.822849</td>\n",
       "      <td>20.045551</td>\n",
       "      <td>172.849395</td>\n",
       "    </tr>\n",
       "    <tr>\n",
       "      <th>std</th>\n",
       "      <td>184.477367</td>\n",
       "      <td>15.861351</td>\n",
       "      <td>268.259831</td>\n",
       "    </tr>\n",
       "    <tr>\n",
       "      <th>min</th>\n",
       "      <td>0.850000</td>\n",
       "      <td>0.000000</td>\n",
       "      <td>0.000000</td>\n",
       "    </tr>\n",
       "    <tr>\n",
       "      <th>25%</th>\n",
       "      <td>39.900000</td>\n",
       "      <td>13.080000</td>\n",
       "      <td>60.860000</td>\n",
       "    </tr>\n",
       "    <tr>\n",
       "      <th>50%</th>\n",
       "      <td>74.900000</td>\n",
       "      <td>16.290000</td>\n",
       "      <td>108.200000</td>\n",
       "    </tr>\n",
       "    <tr>\n",
       "      <th>75%</th>\n",
       "      <td>134.900000</td>\n",
       "      <td>21.190000</td>\n",
       "      <td>189.245000</td>\n",
       "    </tr>\n",
       "    <tr>\n",
       "      <th>max</th>\n",
       "      <td>6735.000000</td>\n",
       "      <td>409.680000</td>\n",
       "      <td>13664.080000</td>\n",
       "    </tr>\n",
       "  </tbody>\n",
       "</table>\n",
       "</div>"
      ],
      "text/plain": [
       "               price  freight_value  payment_value\n",
       "count  117604.000000  117604.000000  118431.000000\n",
       "mean      120.822849      20.045551     172.849395\n",
       "std       184.477367      15.861351     268.259831\n",
       "min         0.850000       0.000000       0.000000\n",
       "25%        39.900000      13.080000      60.860000\n",
       "50%        74.900000      16.290000     108.200000\n",
       "75%       134.900000      21.190000     189.245000\n",
       "max      6735.000000     409.680000   13664.080000"
      ]
     },
     "execution_count": 414,
     "metadata": {},
     "output_type": "execute_result"
    }
   ],
   "source": [
    "olist_sales.describe()"
   ]
  },
  {
   "cell_type": "markdown",
   "id": "d7c07799-a97d-447f-bb5e-672f8fb75f61",
   "metadata": {},
   "source": [
    "##### Given that the mean is larger than median in price, freight_value and payment_value columns, it means that this data is skewed."
   ]
  },
  {
   "cell_type": "markdown",
   "id": "b56f3c12-98c7-4e3c-b47c-2d76224d9bcd",
   "metadata": {},
   "source": [
    "## Filling Missing Values"
   ]
  },
  {
   "cell_type": "markdown",
   "id": "66625960-3d8a-4545-9943-409220c7c3e8",
   "metadata": {},
   "source": [
    "##### Given that the payment value is the sum of price and freight_value."
   ]
  },
  {
   "cell_type": "code",
   "execution_count": 415,
   "id": "3634c743-91b7-48be-aa05-e5094fd7bbc6",
   "metadata": {},
   "outputs": [],
   "source": [
    "avg_price=olist_sales['price'].median()\n",
    "avg_freight_value=olist_sales['freight_value'].median()\n",
    "avg_price_ratio = avg_price/(avg_price+avg_freight_value)\n",
    "avg_freight_value_ratio = avg_freight_value/(avg_price+avg_freight_value)"
   ]
  },
  {
   "cell_type": "code",
   "execution_count": 416,
   "id": "36cd61d3-e444-4397-bb09-33d0845d369d",
   "metadata": {},
   "outputs": [],
   "source": [
    "olist_sales.loc[olist_sales['price'].isna(),['price']]=olist_sales['payment_value']*avg_price_ratio\n",
    "olist_sales.loc[olist_sales['freight_value'].isna(),['freight_value']]=olist_sales['payment_value']*avg_freight_value_ratio"
   ]
  },
  {
   "cell_type": "code",
   "execution_count": 417,
   "id": "28600ba1-8d1f-45fc-9154-73aa84937ec1",
   "metadata": {},
   "outputs": [
    {
     "data": {
      "text/html": [
       "<div>\n",
       "<style scoped>\n",
       "    .dataframe tbody tr th:only-of-type {\n",
       "        vertical-align: middle;\n",
       "    }\n",
       "\n",
       "    .dataframe tbody tr th {\n",
       "        vertical-align: top;\n",
       "    }\n",
       "\n",
       "    .dataframe thead th {\n",
       "        text-align: right;\n",
       "    }\n",
       "</style>\n",
       "<table border=\"1\" class=\"dataframe\">\n",
       "  <thead>\n",
       "    <tr style=\"text-align: right;\">\n",
       "      <th></th>\n",
       "      <th>order_id</th>\n",
       "      <th>order_status</th>\n",
       "      <th>order_date</th>\n",
       "      <th>order_estimated_delivery_date</th>\n",
       "      <th>order_delivered_customer_date</th>\n",
       "      <th>price</th>\n",
       "      <th>freight_value</th>\n",
       "      <th>payment_type</th>\n",
       "      <th>payment_value</th>\n",
       "    </tr>\n",
       "  </thead>\n",
       "  <tbody>\n",
       "    <tr>\n",
       "      <th>0</th>\n",
       "      <td>00010242fe8c5a6d1ba2dd792cb16214</td>\n",
       "      <td>delivered</td>\n",
       "      <td>9/13/2017 8:59</td>\n",
       "      <td>9/29/2017 0:00</td>\n",
       "      <td>9/20/2017 23:43</td>\n",
       "      <td>58.900000</td>\n",
       "      <td>13.290000</td>\n",
       "      <td>credit_card</td>\n",
       "      <td>72.19</td>\n",
       "    </tr>\n",
       "    <tr>\n",
       "      <th>1</th>\n",
       "      <td>b81ef226f3fe1789b1e8b2acac839d17</td>\n",
       "      <td>delivered</td>\n",
       "      <td>4/25/2018 22:01</td>\n",
       "      <td>5/22/2018 0:00</td>\n",
       "      <td>5/9/2018 17:36</td>\n",
       "      <td>79.800000</td>\n",
       "      <td>19.530000</td>\n",
       "      <td>credit_card</td>\n",
       "      <td>99.33</td>\n",
       "    </tr>\n",
       "    <tr>\n",
       "      <th>2</th>\n",
       "      <td>53cdb2fc8bc7dce0b6741e2150273451</td>\n",
       "      <td>delivered</td>\n",
       "      <td>7/24/2018 20:41</td>\n",
       "      <td>8/13/2018 0:00</td>\n",
       "      <td>8/7/2018 15:27</td>\n",
       "      <td>118.700000</td>\n",
       "      <td>22.760000</td>\n",
       "      <td>boleto</td>\n",
       "      <td>141.46</td>\n",
       "    </tr>\n",
       "    <tr>\n",
       "      <th>3</th>\n",
       "      <td>a9810da82917af2d9aefd1278f1dcfa0</td>\n",
       "      <td>delivered</td>\n",
       "      <td>6/26/2018 11:01</td>\n",
       "      <td>7/16/2018 0:00</td>\n",
       "      <td>6/29/2018 20:32</td>\n",
       "      <td>17.000000</td>\n",
       "      <td>7.390000</td>\n",
       "      <td>credit_card</td>\n",
       "      <td>24.39</td>\n",
       "    </tr>\n",
       "    <tr>\n",
       "      <th>4</th>\n",
       "      <td>00018f77f2f0320c557190d7a144bdd3</td>\n",
       "      <td>delivered</td>\n",
       "      <td>4/26/2017 10:53</td>\n",
       "      <td>5/15/2017 0:00</td>\n",
       "      <td>5/12/2017 16:04</td>\n",
       "      <td>239.900000</td>\n",
       "      <td>19.930000</td>\n",
       "      <td>credit_card</td>\n",
       "      <td>259.83</td>\n",
       "    </tr>\n",
       "    <tr>\n",
       "      <th>...</th>\n",
       "      <td>...</td>\n",
       "      <td>...</td>\n",
       "      <td>...</td>\n",
       "      <td>...</td>\n",
       "      <td>...</td>\n",
       "      <td>...</td>\n",
       "      <td>...</td>\n",
       "      <td>...</td>\n",
       "      <td>...</td>\n",
       "    </tr>\n",
       "    <tr>\n",
       "      <th>118429</th>\n",
       "      <td>aaab15da689073f8f9aa978a390a69d1</td>\n",
       "      <td>unavailable</td>\n",
       "      <td>1/16/2018 14:27</td>\n",
       "      <td>2/6/2018 0:00</td>\n",
       "      <td>NaN</td>\n",
       "      <td>172.559941</td>\n",
       "      <td>37.530059</td>\n",
       "      <td>boleto</td>\n",
       "      <td>210.09</td>\n",
       "    </tr>\n",
       "    <tr>\n",
       "      <th>118430</th>\n",
       "      <td>3a3cddda5a7c27851bd96c3313412840</td>\n",
       "      <td>canceled</td>\n",
       "      <td>8/31/2018 16:13</td>\n",
       "      <td>10/1/2018 0:00</td>\n",
       "      <td>NaN</td>\n",
       "      <td>52.476818</td>\n",
       "      <td>11.413182</td>\n",
       "      <td>voucher</td>\n",
       "      <td>63.89</td>\n",
       "    </tr>\n",
       "    <tr>\n",
       "      <th>118431</th>\n",
       "      <td>a89abace0dcc01eeb267a9660b5ac126</td>\n",
       "      <td>canceled</td>\n",
       "      <td>9/6/2018 18:45</td>\n",
       "      <td>9/27/2018 0:00</td>\n",
       "      <td>NaN</td>\n",
       "      <td>87.992510</td>\n",
       "      <td>19.137490</td>\n",
       "      <td>voucher</td>\n",
       "      <td>107.13</td>\n",
       "    </tr>\n",
       "    <tr>\n",
       "      <th>118432</th>\n",
       "      <td>a69ba794cc7deb415c3e15a0a3877e69</td>\n",
       "      <td>unavailable</td>\n",
       "      <td>8/23/2017 16:28</td>\n",
       "      <td>9/15/2017 0:00</td>\n",
       "      <td>NaN</td>\n",
       "      <td>160.913028</td>\n",
       "      <td>34.996972</td>\n",
       "      <td>credit_card</td>\n",
       "      <td>195.91</td>\n",
       "    </tr>\n",
       "    <tr>\n",
       "      <th>118433</th>\n",
       "      <td>5fabc81b6322c8443648e1b21a6fef21</td>\n",
       "      <td>unavailable</td>\n",
       "      <td>10/10/2017 10:50</td>\n",
       "      <td>10/23/2017 0:00</td>\n",
       "      <td>NaN</td>\n",
       "      <td>110.037866</td>\n",
       "      <td>23.932134</td>\n",
       "      <td>boleto</td>\n",
       "      <td>133.97</td>\n",
       "    </tr>\n",
       "  </tbody>\n",
       "</table>\n",
       "<p>118434 rows × 9 columns</p>\n",
       "</div>"
      ],
      "text/plain": [
       "                                order_id order_status        order_date  \\\n",
       "0       00010242fe8c5a6d1ba2dd792cb16214    delivered    9/13/2017 8:59   \n",
       "1       b81ef226f3fe1789b1e8b2acac839d17    delivered   4/25/2018 22:01   \n",
       "2       53cdb2fc8bc7dce0b6741e2150273451    delivered   7/24/2018 20:41   \n",
       "3       a9810da82917af2d9aefd1278f1dcfa0    delivered   6/26/2018 11:01   \n",
       "4       00018f77f2f0320c557190d7a144bdd3    delivered   4/26/2017 10:53   \n",
       "...                                  ...          ...               ...   \n",
       "118429  aaab15da689073f8f9aa978a390a69d1  unavailable   1/16/2018 14:27   \n",
       "118430  3a3cddda5a7c27851bd96c3313412840     canceled   8/31/2018 16:13   \n",
       "118431  a89abace0dcc01eeb267a9660b5ac126     canceled    9/6/2018 18:45   \n",
       "118432  a69ba794cc7deb415c3e15a0a3877e69  unavailable   8/23/2017 16:28   \n",
       "118433  5fabc81b6322c8443648e1b21a6fef21  unavailable  10/10/2017 10:50   \n",
       "\n",
       "       order_estimated_delivery_date order_delivered_customer_date  \\\n",
       "0                     9/29/2017 0:00               9/20/2017 23:43   \n",
       "1                     5/22/2018 0:00                5/9/2018 17:36   \n",
       "2                     8/13/2018 0:00                8/7/2018 15:27   \n",
       "3                     7/16/2018 0:00               6/29/2018 20:32   \n",
       "4                     5/15/2017 0:00               5/12/2017 16:04   \n",
       "...                              ...                           ...   \n",
       "118429                 2/6/2018 0:00                           NaN   \n",
       "118430                10/1/2018 0:00                           NaN   \n",
       "118431                9/27/2018 0:00                           NaN   \n",
       "118432                9/15/2017 0:00                           NaN   \n",
       "118433               10/23/2017 0:00                           NaN   \n",
       "\n",
       "             price  freight_value payment_type  payment_value  \n",
       "0        58.900000      13.290000  credit_card          72.19  \n",
       "1        79.800000      19.530000  credit_card          99.33  \n",
       "2       118.700000      22.760000       boleto         141.46  \n",
       "3        17.000000       7.390000  credit_card          24.39  \n",
       "4       239.900000      19.930000  credit_card         259.83  \n",
       "...            ...            ...          ...            ...  \n",
       "118429  172.559941      37.530059       boleto         210.09  \n",
       "118430   52.476818      11.413182      voucher          63.89  \n",
       "118431   87.992510      19.137490      voucher         107.13  \n",
       "118432  160.913028      34.996972  credit_card         195.91  \n",
       "118433  110.037866      23.932134       boleto         133.97  \n",
       "\n",
       "[118434 rows x 9 columns]"
      ]
     },
     "execution_count": 417,
     "metadata": {},
     "output_type": "execute_result"
    }
   ],
   "source": [
    "olist_sales"
   ]
  },
  {
   "cell_type": "code",
   "execution_count": 418,
   "id": "e1ba6e34-7feb-41e7-aeb0-f845c576c3f6",
   "metadata": {},
   "outputs": [
    {
     "data": {
      "text/plain": [
       "order_id                            0\n",
       "order_status                        0\n",
       "order_date                          0\n",
       "order_estimated_delivery_date       0\n",
       "order_delivered_customer_date    3397\n",
       "price                               0\n",
       "freight_value                       0\n",
       "payment_type                        3\n",
       "payment_value                       3\n",
       "dtype: int64"
      ]
     },
     "execution_count": 418,
     "metadata": {},
     "output_type": "execute_result"
    }
   ],
   "source": [
    "olist_sales.isnull().sum()"
   ]
  },
  {
   "cell_type": "markdown",
   "id": "5b6f7f84-8ef0-4fc8-91b4-cb7e7e622b3b",
   "metadata": {},
   "source": [
    "##### Now there are no empty cells of no meaning."
   ]
  },
  {
   "cell_type": "markdown",
   "id": "11f391b7-5da6-4251-a049-9326bf15d6af",
   "metadata": {},
   "source": [
    "## Handling Data Structure and Format"
   ]
  },
  {
   "cell_type": "code",
   "execution_count": 419,
   "id": "75a7a15f-12d9-4883-b776-d7ea394127c7",
   "metadata": {},
   "outputs": [],
   "source": [
    "olist_sales[['order_date','order_estimated_delivery_date','order_delivered_customer_date']]= olist_sales[['order_date','order_estimated_delivery_date','order_delivered_customer_date']].apply(pd.to_datetime)"
   ]
  },
  {
   "cell_type": "code",
   "execution_count": 420,
   "id": "ef82a6a3-46d4-425b-a976-d06f7d50ae73",
   "metadata": {},
   "outputs": [
    {
     "data": {
      "text/html": [
       "<div>\n",
       "<style scoped>\n",
       "    .dataframe tbody tr th:only-of-type {\n",
       "        vertical-align: middle;\n",
       "    }\n",
       "\n",
       "    .dataframe tbody tr th {\n",
       "        vertical-align: top;\n",
       "    }\n",
       "\n",
       "    .dataframe thead th {\n",
       "        text-align: right;\n",
       "    }\n",
       "</style>\n",
       "<table border=\"1\" class=\"dataframe\">\n",
       "  <thead>\n",
       "    <tr style=\"text-align: right;\">\n",
       "      <th></th>\n",
       "      <th>order_id</th>\n",
       "      <th>order_status</th>\n",
       "      <th>order_date</th>\n",
       "      <th>order_estimated_delivery_date</th>\n",
       "      <th>order_delivered_customer_date</th>\n",
       "      <th>price</th>\n",
       "      <th>freight_value</th>\n",
       "      <th>payment_type</th>\n",
       "      <th>payment_value</th>\n",
       "    </tr>\n",
       "  </thead>\n",
       "  <tbody>\n",
       "    <tr>\n",
       "      <th>0</th>\n",
       "      <td>00010242fe8c5a6d1ba2dd792cb16214</td>\n",
       "      <td>delivered</td>\n",
       "      <td>2017-09-13 08:59:00</td>\n",
       "      <td>2017-09-29</td>\n",
       "      <td>2017-09-20 23:43:00</td>\n",
       "      <td>58.9</td>\n",
       "      <td>13.29</td>\n",
       "      <td>credit_card</td>\n",
       "      <td>72.19</td>\n",
       "    </tr>\n",
       "    <tr>\n",
       "      <th>1</th>\n",
       "      <td>b81ef226f3fe1789b1e8b2acac839d17</td>\n",
       "      <td>delivered</td>\n",
       "      <td>2018-04-25 22:01:00</td>\n",
       "      <td>2018-05-22</td>\n",
       "      <td>2018-05-09 17:36:00</td>\n",
       "      <td>79.8</td>\n",
       "      <td>19.53</td>\n",
       "      <td>credit_card</td>\n",
       "      <td>99.33</td>\n",
       "    </tr>\n",
       "    <tr>\n",
       "      <th>2</th>\n",
       "      <td>53cdb2fc8bc7dce0b6741e2150273451</td>\n",
       "      <td>delivered</td>\n",
       "      <td>2018-07-24 20:41:00</td>\n",
       "      <td>2018-08-13</td>\n",
       "      <td>2018-08-07 15:27:00</td>\n",
       "      <td>118.7</td>\n",
       "      <td>22.76</td>\n",
       "      <td>boleto</td>\n",
       "      <td>141.46</td>\n",
       "    </tr>\n",
       "    <tr>\n",
       "      <th>3</th>\n",
       "      <td>a9810da82917af2d9aefd1278f1dcfa0</td>\n",
       "      <td>delivered</td>\n",
       "      <td>2018-06-26 11:01:00</td>\n",
       "      <td>2018-07-16</td>\n",
       "      <td>2018-06-29 20:32:00</td>\n",
       "      <td>17.0</td>\n",
       "      <td>7.39</td>\n",
       "      <td>credit_card</td>\n",
       "      <td>24.39</td>\n",
       "    </tr>\n",
       "    <tr>\n",
       "      <th>4</th>\n",
       "      <td>00018f77f2f0320c557190d7a144bdd3</td>\n",
       "      <td>delivered</td>\n",
       "      <td>2017-04-26 10:53:00</td>\n",
       "      <td>2017-05-15</td>\n",
       "      <td>2017-05-12 16:04:00</td>\n",
       "      <td>239.9</td>\n",
       "      <td>19.93</td>\n",
       "      <td>credit_card</td>\n",
       "      <td>259.83</td>\n",
       "    </tr>\n",
       "  </tbody>\n",
       "</table>\n",
       "</div>"
      ],
      "text/plain": [
       "                           order_id order_status          order_date  \\\n",
       "0  00010242fe8c5a6d1ba2dd792cb16214    delivered 2017-09-13 08:59:00   \n",
       "1  b81ef226f3fe1789b1e8b2acac839d17    delivered 2018-04-25 22:01:00   \n",
       "2  53cdb2fc8bc7dce0b6741e2150273451    delivered 2018-07-24 20:41:00   \n",
       "3  a9810da82917af2d9aefd1278f1dcfa0    delivered 2018-06-26 11:01:00   \n",
       "4  00018f77f2f0320c557190d7a144bdd3    delivered 2017-04-26 10:53:00   \n",
       "\n",
       "  order_estimated_delivery_date order_delivered_customer_date  price  \\\n",
       "0                    2017-09-29           2017-09-20 23:43:00   58.9   \n",
       "1                    2018-05-22           2018-05-09 17:36:00   79.8   \n",
       "2                    2018-08-13           2018-08-07 15:27:00  118.7   \n",
       "3                    2018-07-16           2018-06-29 20:32:00   17.0   \n",
       "4                    2017-05-15           2017-05-12 16:04:00  239.9   \n",
       "\n",
       "   freight_value payment_type  payment_value  \n",
       "0          13.29  credit_card          72.19  \n",
       "1          19.53  credit_card          99.33  \n",
       "2          22.76       boleto         141.46  \n",
       "3           7.39  credit_card          24.39  \n",
       "4          19.93  credit_card         259.83  "
      ]
     },
     "execution_count": 420,
     "metadata": {},
     "output_type": "execute_result"
    }
   ],
   "source": [
    "olist_sales.head()"
   ]
  },
  {
   "cell_type": "code",
   "execution_count": 421,
   "id": "89032cf9-a895-48d7-b5ad-30f8ee49811b",
   "metadata": {},
   "outputs": [
    {
     "data": {
      "text/html": [
       "<div>\n",
       "<style scoped>\n",
       "    .dataframe tbody tr th:only-of-type {\n",
       "        vertical-align: middle;\n",
       "    }\n",
       "\n",
       "    .dataframe tbody tr th {\n",
       "        vertical-align: top;\n",
       "    }\n",
       "\n",
       "    .dataframe thead th {\n",
       "        text-align: right;\n",
       "    }\n",
       "</style>\n",
       "<table border=\"1\" class=\"dataframe\">\n",
       "  <thead>\n",
       "    <tr style=\"text-align: right;\">\n",
       "      <th></th>\n",
       "      <th>order_id</th>\n",
       "      <th>order_status</th>\n",
       "      <th>order_date</th>\n",
       "      <th>order_estimated_delivery_date</th>\n",
       "      <th>order_delivered_customer_date</th>\n",
       "      <th>price</th>\n",
       "      <th>freight_value</th>\n",
       "      <th>payment_type</th>\n",
       "      <th>payment_value</th>\n",
       "    </tr>\n",
       "  </thead>\n",
       "  <tbody>\n",
       "    <tr>\n",
       "      <th>118429</th>\n",
       "      <td>aaab15da689073f8f9aa978a390a69d1</td>\n",
       "      <td>unavailable</td>\n",
       "      <td>2018-01-16 14:27:00</td>\n",
       "      <td>2018-02-06</td>\n",
       "      <td>NaT</td>\n",
       "      <td>172.559941</td>\n",
       "      <td>37.530059</td>\n",
       "      <td>boleto</td>\n",
       "      <td>210.09</td>\n",
       "    </tr>\n",
       "    <tr>\n",
       "      <th>118430</th>\n",
       "      <td>3a3cddda5a7c27851bd96c3313412840</td>\n",
       "      <td>canceled</td>\n",
       "      <td>2018-08-31 16:13:00</td>\n",
       "      <td>2018-10-01</td>\n",
       "      <td>NaT</td>\n",
       "      <td>52.476818</td>\n",
       "      <td>11.413182</td>\n",
       "      <td>voucher</td>\n",
       "      <td>63.89</td>\n",
       "    </tr>\n",
       "    <tr>\n",
       "      <th>118431</th>\n",
       "      <td>a89abace0dcc01eeb267a9660b5ac126</td>\n",
       "      <td>canceled</td>\n",
       "      <td>2018-09-06 18:45:00</td>\n",
       "      <td>2018-09-27</td>\n",
       "      <td>NaT</td>\n",
       "      <td>87.992510</td>\n",
       "      <td>19.137490</td>\n",
       "      <td>voucher</td>\n",
       "      <td>107.13</td>\n",
       "    </tr>\n",
       "    <tr>\n",
       "      <th>118432</th>\n",
       "      <td>a69ba794cc7deb415c3e15a0a3877e69</td>\n",
       "      <td>unavailable</td>\n",
       "      <td>2017-08-23 16:28:00</td>\n",
       "      <td>2017-09-15</td>\n",
       "      <td>NaT</td>\n",
       "      <td>160.913028</td>\n",
       "      <td>34.996972</td>\n",
       "      <td>credit_card</td>\n",
       "      <td>195.91</td>\n",
       "    </tr>\n",
       "    <tr>\n",
       "      <th>118433</th>\n",
       "      <td>5fabc81b6322c8443648e1b21a6fef21</td>\n",
       "      <td>unavailable</td>\n",
       "      <td>2017-10-10 10:50:00</td>\n",
       "      <td>2017-10-23</td>\n",
       "      <td>NaT</td>\n",
       "      <td>110.037866</td>\n",
       "      <td>23.932134</td>\n",
       "      <td>boleto</td>\n",
       "      <td>133.97</td>\n",
       "    </tr>\n",
       "  </tbody>\n",
       "</table>\n",
       "</div>"
      ],
      "text/plain": [
       "                                order_id order_status          order_date  \\\n",
       "118429  aaab15da689073f8f9aa978a390a69d1  unavailable 2018-01-16 14:27:00   \n",
       "118430  3a3cddda5a7c27851bd96c3313412840     canceled 2018-08-31 16:13:00   \n",
       "118431  a89abace0dcc01eeb267a9660b5ac126     canceled 2018-09-06 18:45:00   \n",
       "118432  a69ba794cc7deb415c3e15a0a3877e69  unavailable 2017-08-23 16:28:00   \n",
       "118433  5fabc81b6322c8443648e1b21a6fef21  unavailable 2017-10-10 10:50:00   \n",
       "\n",
       "       order_estimated_delivery_date order_delivered_customer_date  \\\n",
       "118429                    2018-02-06                           NaT   \n",
       "118430                    2018-10-01                           NaT   \n",
       "118431                    2018-09-27                           NaT   \n",
       "118432                    2017-09-15                           NaT   \n",
       "118433                    2017-10-23                           NaT   \n",
       "\n",
       "             price  freight_value payment_type  payment_value  \n",
       "118429  172.559941      37.530059       boleto         210.09  \n",
       "118430   52.476818      11.413182      voucher          63.89  \n",
       "118431   87.992510      19.137490      voucher         107.13  \n",
       "118432  160.913028      34.996972  credit_card         195.91  \n",
       "118433  110.037866      23.932134       boleto         133.97  "
      ]
     },
     "execution_count": 421,
     "metadata": {},
     "output_type": "execute_result"
    }
   ],
   "source": [
    "olist_sales.tail()"
   ]
  },
  {
   "cell_type": "code",
   "execution_count": 422,
   "id": "076b4547-afc8-49ce-9975-436ba2162381",
   "metadata": {},
   "outputs": [
    {
     "data": {
      "text/plain": [
       "order_id                                 object\n",
       "order_status                             object\n",
       "order_date                       datetime64[ns]\n",
       "order_estimated_delivery_date    datetime64[ns]\n",
       "order_delivered_customer_date    datetime64[ns]\n",
       "price                                   float64\n",
       "freight_value                           float64\n",
       "payment_type                             object\n",
       "payment_value                           float64\n",
       "dtype: object"
      ]
     },
     "execution_count": 422,
     "metadata": {},
     "output_type": "execute_result"
    }
   ],
   "source": [
    "olist_sales.dtypes"
   ]
  },
  {
   "cell_type": "code",
   "execution_count": 423,
   "id": "c8b0944b-fd02-4c75-94cc-ddd4fb7b94c5",
   "metadata": {},
   "outputs": [
    {
     "name": "stdout",
     "output_type": "stream",
     "text": [
      "order_date                          0\n",
      "order_estimated_delivery_date       0\n",
      "order_delivered_customer_date    3397\n",
      "dtype: int64\n"
     ]
    }
   ],
   "source": [
    "print(olist_sales[['order_date','order_estimated_delivery_date','order_delivered_customer_date']].isna().sum())"
   ]
  },
  {
   "cell_type": "code",
   "execution_count": 424,
   "id": "1ac3e727-85a6-45e2-a213-2cf83a788917",
   "metadata": {},
   "outputs": [
    {
     "name": "stdout",
     "output_type": "stream",
     "text": [
      "order_date                      2016-09-04 21:15:00\n",
      "order_estimated_delivery_date   2016-09-30 00:00:00\n",
      "order_delivered_customer_date   2016-10-11 13:46:00\n",
      "dtype: datetime64[ns]\n"
     ]
    }
   ],
   "source": [
    "print(olist_sales[['order_date','order_estimated_delivery_date','order_delivered_customer_date']].min())"
   ]
  },
  {
   "cell_type": "code",
   "execution_count": 425,
   "id": "6bf64a2e-d6f0-4878-aac0-e80194ad702f",
   "metadata": {},
   "outputs": [
    {
     "name": "stdout",
     "output_type": "stream",
     "text": [
      "order_date                      2018-10-17 17:30:00\n",
      "order_estimated_delivery_date   2018-11-12 00:00:00\n",
      "order_delivered_customer_date   2018-10-17 13:22:00\n",
      "dtype: datetime64[ns]\n"
     ]
    }
   ],
   "source": [
    "print(olist_sales[['order_date','order_estimated_delivery_date','order_delivered_customer_date']].max())"
   ]
  },
  {
   "cell_type": "markdown",
   "id": "018dd20d-6a22-4fca-9dfa-06be36af8a84",
   "metadata": {},
   "source": [
    "##### This means the date columns are now all consistent and has no out-of-bounds dates."
   ]
  },
  {
   "cell_type": "markdown",
   "id": "ed78390e-796d-4f25-a658-94064c5cc912",
   "metadata": {},
   "source": [
    "## Saving The Cleaned Data"
   ]
  },
  {
   "cell_type": "code",
   "execution_count": 426,
   "id": "afa61b94-d580-4456-add5-24123b41d344",
   "metadata": {},
   "outputs": [],
   "source": [
    "olist_sales.to_csv(\"cleaned_olist_sales.csv\",index=False)"
   ]
  },
  {
   "cell_type": "markdown",
   "id": "966133cd-47db-4173-a65a-c599bfb841a2",
   "metadata": {},
   "source": [
    "## Performing Reconciliation"
   ]
  },
  {
   "cell_type": "markdown",
   "id": "eb79b32a-ecf8-4a82-9acb-553fa250baa9",
   "metadata": {},
   "source": [
    "#### Sales Performance:"
   ]
  },
  {
   "cell_type": "markdown",
   "id": "c24feecc-47dc-4d34-844e-ba3161d6893e",
   "metadata": {},
   "source": [
    "Total Revenue from the successfully delivered orders:-"
   ]
  },
  {
   "cell_type": "code",
   "execution_count": 427,
   "id": "f5f961d1-b38b-406e-b535-ee6212ef0d50",
   "metadata": {},
   "outputs": [
    {
     "data": {
      "text/html": [
       "<div>\n",
       "<style scoped>\n",
       "    .dataframe tbody tr th:only-of-type {\n",
       "        vertical-align: middle;\n",
       "    }\n",
       "\n",
       "    .dataframe tbody tr th {\n",
       "        vertical-align: top;\n",
       "    }\n",
       "\n",
       "    .dataframe thead th {\n",
       "        text-align: right;\n",
       "    }\n",
       "</style>\n",
       "<table border=\"1\" class=\"dataframe\">\n",
       "  <thead>\n",
       "    <tr style=\"text-align: right;\">\n",
       "      <th></th>\n",
       "      <th>order_id</th>\n",
       "      <th>order_status</th>\n",
       "      <th>order_date</th>\n",
       "      <th>order_estimated_delivery_date</th>\n",
       "      <th>order_delivered_customer_date</th>\n",
       "      <th>price</th>\n",
       "      <th>freight_value</th>\n",
       "      <th>payment_type</th>\n",
       "      <th>payment_value</th>\n",
       "    </tr>\n",
       "  </thead>\n",
       "  <tbody>\n",
       "    <tr>\n",
       "      <th>0</th>\n",
       "      <td>00010242fe8c5a6d1ba2dd792cb16214</td>\n",
       "      <td>delivered</td>\n",
       "      <td>2017-09-13 08:59:00</td>\n",
       "      <td>2017-09-29</td>\n",
       "      <td>2017-09-20 23:43:00</td>\n",
       "      <td>58.90</td>\n",
       "      <td>13.29</td>\n",
       "      <td>credit_card</td>\n",
       "      <td>72.19</td>\n",
       "    </tr>\n",
       "    <tr>\n",
       "      <th>1</th>\n",
       "      <td>b81ef226f3fe1789b1e8b2acac839d17</td>\n",
       "      <td>delivered</td>\n",
       "      <td>2018-04-25 22:01:00</td>\n",
       "      <td>2018-05-22</td>\n",
       "      <td>2018-05-09 17:36:00</td>\n",
       "      <td>79.80</td>\n",
       "      <td>19.53</td>\n",
       "      <td>credit_card</td>\n",
       "      <td>99.33</td>\n",
       "    </tr>\n",
       "    <tr>\n",
       "      <th>2</th>\n",
       "      <td>53cdb2fc8bc7dce0b6741e2150273451</td>\n",
       "      <td>delivered</td>\n",
       "      <td>2018-07-24 20:41:00</td>\n",
       "      <td>2018-08-13</td>\n",
       "      <td>2018-08-07 15:27:00</td>\n",
       "      <td>118.70</td>\n",
       "      <td>22.76</td>\n",
       "      <td>boleto</td>\n",
       "      <td>141.46</td>\n",
       "    </tr>\n",
       "    <tr>\n",
       "      <th>3</th>\n",
       "      <td>a9810da82917af2d9aefd1278f1dcfa0</td>\n",
       "      <td>delivered</td>\n",
       "      <td>2018-06-26 11:01:00</td>\n",
       "      <td>2018-07-16</td>\n",
       "      <td>2018-06-29 20:32:00</td>\n",
       "      <td>17.00</td>\n",
       "      <td>7.39</td>\n",
       "      <td>credit_card</td>\n",
       "      <td>24.39</td>\n",
       "    </tr>\n",
       "    <tr>\n",
       "      <th>4</th>\n",
       "      <td>00018f77f2f0320c557190d7a144bdd3</td>\n",
       "      <td>delivered</td>\n",
       "      <td>2017-04-26 10:53:00</td>\n",
       "      <td>2017-05-15</td>\n",
       "      <td>2017-05-12 16:04:00</td>\n",
       "      <td>239.90</td>\n",
       "      <td>19.93</td>\n",
       "      <td>credit_card</td>\n",
       "      <td>259.83</td>\n",
       "    </tr>\n",
       "    <tr>\n",
       "      <th>...</th>\n",
       "      <td>...</td>\n",
       "      <td>...</td>\n",
       "      <td>...</td>\n",
       "      <td>...</td>\n",
       "      <td>...</td>\n",
       "      <td>...</td>\n",
       "      <td>...</td>\n",
       "      <td>...</td>\n",
       "      <td>...</td>\n",
       "    </tr>\n",
       "    <tr>\n",
       "      <th>117599</th>\n",
       "      <td>fffc94f6ce00a00581880bf54a75a037</td>\n",
       "      <td>delivered</td>\n",
       "      <td>2018-04-23 13:57:00</td>\n",
       "      <td>2018-05-18</td>\n",
       "      <td>2018-05-10 22:56:00</td>\n",
       "      <td>299.99</td>\n",
       "      <td>43.41</td>\n",
       "      <td>boleto</td>\n",
       "      <td>343.40</td>\n",
       "    </tr>\n",
       "    <tr>\n",
       "      <th>117600</th>\n",
       "      <td>fffcd46ef2263f404302a634eb57f7eb</td>\n",
       "      <td>delivered</td>\n",
       "      <td>2018-07-14 10:26:00</td>\n",
       "      <td>2018-08-01</td>\n",
       "      <td>2018-07-23 20:31:00</td>\n",
       "      <td>350.00</td>\n",
       "      <td>36.53</td>\n",
       "      <td>boleto</td>\n",
       "      <td>386.53</td>\n",
       "    </tr>\n",
       "    <tr>\n",
       "      <th>117601</th>\n",
       "      <td>fffce4705a9662cd70adb13d4a31832d</td>\n",
       "      <td>delivered</td>\n",
       "      <td>2017-10-23 17:07:00</td>\n",
       "      <td>2017-11-10</td>\n",
       "      <td>2017-10-28 12:22:00</td>\n",
       "      <td>99.90</td>\n",
       "      <td>16.95</td>\n",
       "      <td>credit_card</td>\n",
       "      <td>116.85</td>\n",
       "    </tr>\n",
       "    <tr>\n",
       "      <th>117602</th>\n",
       "      <td>fffe18544ffabc95dfada21779c9644f</td>\n",
       "      <td>delivered</td>\n",
       "      <td>2017-08-14 23:02:00</td>\n",
       "      <td>2017-08-25</td>\n",
       "      <td>2017-08-16 21:59:00</td>\n",
       "      <td>55.99</td>\n",
       "      <td>8.72</td>\n",
       "      <td>credit_card</td>\n",
       "      <td>64.71</td>\n",
       "    </tr>\n",
       "    <tr>\n",
       "      <th>117603</th>\n",
       "      <td>fffe41c64501cc87c801fd61db3f6244</td>\n",
       "      <td>delivered</td>\n",
       "      <td>2018-06-09 17:00:00</td>\n",
       "      <td>2018-06-28</td>\n",
       "      <td>2018-06-14 17:56:00</td>\n",
       "      <td>43.00</td>\n",
       "      <td>12.79</td>\n",
       "      <td>credit_card</td>\n",
       "      <td>55.79</td>\n",
       "    </tr>\n",
       "  </tbody>\n",
       "</table>\n",
       "<p>115030 rows × 9 columns</p>\n",
       "</div>"
      ],
      "text/plain": [
       "                                order_id order_status          order_date  \\\n",
       "0       00010242fe8c5a6d1ba2dd792cb16214    delivered 2017-09-13 08:59:00   \n",
       "1       b81ef226f3fe1789b1e8b2acac839d17    delivered 2018-04-25 22:01:00   \n",
       "2       53cdb2fc8bc7dce0b6741e2150273451    delivered 2018-07-24 20:41:00   \n",
       "3       a9810da82917af2d9aefd1278f1dcfa0    delivered 2018-06-26 11:01:00   \n",
       "4       00018f77f2f0320c557190d7a144bdd3    delivered 2017-04-26 10:53:00   \n",
       "...                                  ...          ...                 ...   \n",
       "117599  fffc94f6ce00a00581880bf54a75a037    delivered 2018-04-23 13:57:00   \n",
       "117600  fffcd46ef2263f404302a634eb57f7eb    delivered 2018-07-14 10:26:00   \n",
       "117601  fffce4705a9662cd70adb13d4a31832d    delivered 2017-10-23 17:07:00   \n",
       "117602  fffe18544ffabc95dfada21779c9644f    delivered 2017-08-14 23:02:00   \n",
       "117603  fffe41c64501cc87c801fd61db3f6244    delivered 2018-06-09 17:00:00   \n",
       "\n",
       "       order_estimated_delivery_date order_delivered_customer_date   price  \\\n",
       "0                         2017-09-29           2017-09-20 23:43:00   58.90   \n",
       "1                         2018-05-22           2018-05-09 17:36:00   79.80   \n",
       "2                         2018-08-13           2018-08-07 15:27:00  118.70   \n",
       "3                         2018-07-16           2018-06-29 20:32:00   17.00   \n",
       "4                         2017-05-15           2017-05-12 16:04:00  239.90   \n",
       "...                              ...                           ...     ...   \n",
       "117599                    2018-05-18           2018-05-10 22:56:00  299.99   \n",
       "117600                    2018-08-01           2018-07-23 20:31:00  350.00   \n",
       "117601                    2017-11-10           2017-10-28 12:22:00   99.90   \n",
       "117602                    2017-08-25           2017-08-16 21:59:00   55.99   \n",
       "117603                    2018-06-28           2018-06-14 17:56:00   43.00   \n",
       "\n",
       "        freight_value payment_type  payment_value  \n",
       "0               13.29  credit_card          72.19  \n",
       "1               19.53  credit_card          99.33  \n",
       "2               22.76       boleto         141.46  \n",
       "3                7.39  credit_card          24.39  \n",
       "4               19.93  credit_card         259.83  \n",
       "...               ...          ...            ...  \n",
       "117599          43.41       boleto         343.40  \n",
       "117600          36.53       boleto         386.53  \n",
       "117601          16.95  credit_card         116.85  \n",
       "117602           8.72  credit_card          64.71  \n",
       "117603          12.79  credit_card          55.79  \n",
       "\n",
       "[115030 rows x 9 columns]"
      ]
     },
     "execution_count": 427,
     "metadata": {},
     "output_type": "execute_result"
    }
   ],
   "source": [
    "olist_sales_delivered = olist_sales[(olist_sales['order_status']=='delivered') & (olist_sales['order_delivered_customer_date'].notna())]\n",
    "olist_sales_delivered"
   ]
  },
  {
   "cell_type": "code",
   "execution_count": 428,
   "id": "ac25022e-833c-4787-8138-f4ae0d9c4784",
   "metadata": {},
   "outputs": [
    {
     "name": "stdout",
     "output_type": "stream",
     "text": [
      "Number of orders succesfully delivered is 115030.\n"
     ]
    }
   ],
   "source": [
    "no_orders_delivered = olist_sales_delivered.shape[0]\n",
    "print(f\"Number of orders succesfully delivered is {no_orders_delivered}.\")"
   ]
  },
  {
   "cell_type": "code",
   "execution_count": 429,
   "id": "2d014fe1-3f00-4287-bb0a-2f3022fe3fef",
   "metadata": {},
   "outputs": [
    {
     "name": "stdout",
     "output_type": "stream",
     "text": [
      "Total Revenue of successfully delivered orders = 16,112,784.\n"
     ]
    }
   ],
   "source": [
    "total_revenue = round(olist_sales_delivered['price'].sum()+olist_sales_delivered['freight_value'].sum())\n",
    "print(f\"Total Revenue of successfully delivered orders = {format(total_revenue,\",\")}.\")"
   ]
  },
  {
   "cell_type": "code",
   "execution_count": 430,
   "id": "d0f6d53d-5a1e-42b0-b179-7b0cb089ce34",
   "metadata": {},
   "outputs": [
    {
     "name": "stdout",
     "output_type": "stream",
     "text": [
      "Total payment of successfully delivered orders = 19,774,782.\n"
     ]
    }
   ],
   "source": [
    "total_payment_delivered = round(olist_sales_delivered['payment_value'].sum())\n",
    "print(f\"Total payment of successfully delivered orders = {format(total_payment_delivered,\",\")}.\")"
   ]
  },
  {
   "cell_type": "code",
   "execution_count": 431,
   "id": "5198e0c9-8f70-4978-a670-01decee8c691",
   "metadata": {},
   "outputs": [
    {
     "name": "stdout",
     "output_type": "stream",
     "text": [
      "There is about 3,661,998 overpayment. \n"
     ]
    }
   ],
   "source": [
    "revenue_payment_diff = total_payment_delivered - total_revenue\n",
    "print(f\"There is about {format(revenue_payment_diff,\",\")} overpayment. \")"
   ]
  },
  {
   "cell_type": "markdown",
   "id": "17e4bd48-5842-430d-8011-060009052783",
   "metadata": {},
   "source": [
    "Expected Revenue:-"
   ]
  },
  {
   "cell_type": "code",
   "execution_count": 432,
   "id": "80f3c74a-4f8e-4b7d-af2e-73c53e9a6f2d",
   "metadata": {},
   "outputs": [
    {
     "data": {
      "text/html": [
       "<div>\n",
       "<style scoped>\n",
       "    .dataframe tbody tr th:only-of-type {\n",
       "        vertical-align: middle;\n",
       "    }\n",
       "\n",
       "    .dataframe tbody tr th {\n",
       "        vertical-align: top;\n",
       "    }\n",
       "\n",
       "    .dataframe thead th {\n",
       "        text-align: right;\n",
       "    }\n",
       "</style>\n",
       "<table border=\"1\" class=\"dataframe\">\n",
       "  <thead>\n",
       "    <tr style=\"text-align: right;\">\n",
       "      <th></th>\n",
       "      <th>order_id</th>\n",
       "      <th>order_status</th>\n",
       "      <th>order_date</th>\n",
       "      <th>order_estimated_delivery_date</th>\n",
       "      <th>order_delivered_customer_date</th>\n",
       "      <th>price</th>\n",
       "      <th>freight_value</th>\n",
       "      <th>payment_type</th>\n",
       "      <th>payment_value</th>\n",
       "    </tr>\n",
       "  </thead>\n",
       "  <tbody>\n",
       "    <tr>\n",
       "      <th>0</th>\n",
       "      <td>00010242fe8c5a6d1ba2dd792cb16214</td>\n",
       "      <td>delivered</td>\n",
       "      <td>2017-09-13 08:59:00</td>\n",
       "      <td>2017-09-29</td>\n",
       "      <td>2017-09-20 23:43:00</td>\n",
       "      <td>58.900000</td>\n",
       "      <td>13.290000</td>\n",
       "      <td>credit_card</td>\n",
       "      <td>72.19</td>\n",
       "    </tr>\n",
       "    <tr>\n",
       "      <th>1</th>\n",
       "      <td>b81ef226f3fe1789b1e8b2acac839d17</td>\n",
       "      <td>delivered</td>\n",
       "      <td>2018-04-25 22:01:00</td>\n",
       "      <td>2018-05-22</td>\n",
       "      <td>2018-05-09 17:36:00</td>\n",
       "      <td>79.800000</td>\n",
       "      <td>19.530000</td>\n",
       "      <td>credit_card</td>\n",
       "      <td>99.33</td>\n",
       "    </tr>\n",
       "    <tr>\n",
       "      <th>2</th>\n",
       "      <td>53cdb2fc8bc7dce0b6741e2150273451</td>\n",
       "      <td>delivered</td>\n",
       "      <td>2018-07-24 20:41:00</td>\n",
       "      <td>2018-08-13</td>\n",
       "      <td>2018-08-07 15:27:00</td>\n",
       "      <td>118.700000</td>\n",
       "      <td>22.760000</td>\n",
       "      <td>boleto</td>\n",
       "      <td>141.46</td>\n",
       "    </tr>\n",
       "    <tr>\n",
       "      <th>3</th>\n",
       "      <td>a9810da82917af2d9aefd1278f1dcfa0</td>\n",
       "      <td>delivered</td>\n",
       "      <td>2018-06-26 11:01:00</td>\n",
       "      <td>2018-07-16</td>\n",
       "      <td>2018-06-29 20:32:00</td>\n",
       "      <td>17.000000</td>\n",
       "      <td>7.390000</td>\n",
       "      <td>credit_card</td>\n",
       "      <td>24.39</td>\n",
       "    </tr>\n",
       "    <tr>\n",
       "      <th>4</th>\n",
       "      <td>00018f77f2f0320c557190d7a144bdd3</td>\n",
       "      <td>delivered</td>\n",
       "      <td>2017-04-26 10:53:00</td>\n",
       "      <td>2017-05-15</td>\n",
       "      <td>2017-05-12 16:04:00</td>\n",
       "      <td>239.900000</td>\n",
       "      <td>19.930000</td>\n",
       "      <td>credit_card</td>\n",
       "      <td>259.83</td>\n",
       "    </tr>\n",
       "    <tr>\n",
       "      <th>...</th>\n",
       "      <td>...</td>\n",
       "      <td>...</td>\n",
       "      <td>...</td>\n",
       "      <td>...</td>\n",
       "      <td>...</td>\n",
       "      <td>...</td>\n",
       "      <td>...</td>\n",
       "      <td>...</td>\n",
       "      <td>...</td>\n",
       "    </tr>\n",
       "    <tr>\n",
       "      <th>117602</th>\n",
       "      <td>fffe18544ffabc95dfada21779c9644f</td>\n",
       "      <td>delivered</td>\n",
       "      <td>2017-08-14 23:02:00</td>\n",
       "      <td>2017-08-25</td>\n",
       "      <td>2017-08-16 21:59:00</td>\n",
       "      <td>55.990000</td>\n",
       "      <td>8.720000</td>\n",
       "      <td>credit_card</td>\n",
       "      <td>64.71</td>\n",
       "    </tr>\n",
       "    <tr>\n",
       "      <th>117603</th>\n",
       "      <td>fffe41c64501cc87c801fd61db3f6244</td>\n",
       "      <td>delivered</td>\n",
       "      <td>2018-06-09 17:00:00</td>\n",
       "      <td>2018-06-28</td>\n",
       "      <td>2018-06-14 17:56:00</td>\n",
       "      <td>43.000000</td>\n",
       "      <td>12.790000</td>\n",
       "      <td>credit_card</td>\n",
       "      <td>55.79</td>\n",
       "    </tr>\n",
       "    <tr>\n",
       "      <th>117787</th>\n",
       "      <td>a68ce1686d536ca72bd2dadc4b8671e5</td>\n",
       "      <td>shipped</td>\n",
       "      <td>2016-10-05 01:47:00</td>\n",
       "      <td>2016-12-01</td>\n",
       "      <td>NaT</td>\n",
       "      <td>63.844468</td>\n",
       "      <td>13.885532</td>\n",
       "      <td>boleto</td>\n",
       "      <td>77.73</td>\n",
       "    </tr>\n",
       "    <tr>\n",
       "      <th>118093</th>\n",
       "      <td>2ce9683175cdab7d1c95bcbb3e36f478</td>\n",
       "      <td>invoiced</td>\n",
       "      <td>2016-10-05 21:03:00</td>\n",
       "      <td>2016-11-25</td>\n",
       "      <td>NaT</td>\n",
       "      <td>59.992280</td>\n",
       "      <td>13.047720</td>\n",
       "      <td>boleto</td>\n",
       "      <td>73.04</td>\n",
       "    </tr>\n",
       "    <tr>\n",
       "      <th>118187</th>\n",
       "      <td>e04f1da1f48bf2bbffcf57b9824f76e1</td>\n",
       "      <td>invoiced</td>\n",
       "      <td>2016-10-05 13:22:00</td>\n",
       "      <td>2016-11-29</td>\n",
       "      <td>NaT</td>\n",
       "      <td>62.579570</td>\n",
       "      <td>13.610430</td>\n",
       "      <td>credit_card</td>\n",
       "      <td>76.19</td>\n",
       "    </tr>\n",
       "  </tbody>\n",
       "</table>\n",
       "<p>117034 rows × 9 columns</p>\n",
       "</div>"
      ],
      "text/plain": [
       "                                order_id order_status          order_date  \\\n",
       "0       00010242fe8c5a6d1ba2dd792cb16214    delivered 2017-09-13 08:59:00   \n",
       "1       b81ef226f3fe1789b1e8b2acac839d17    delivered 2018-04-25 22:01:00   \n",
       "2       53cdb2fc8bc7dce0b6741e2150273451    delivered 2018-07-24 20:41:00   \n",
       "3       a9810da82917af2d9aefd1278f1dcfa0    delivered 2018-06-26 11:01:00   \n",
       "4       00018f77f2f0320c557190d7a144bdd3    delivered 2017-04-26 10:53:00   \n",
       "...                                  ...          ...                 ...   \n",
       "117602  fffe18544ffabc95dfada21779c9644f    delivered 2017-08-14 23:02:00   \n",
       "117603  fffe41c64501cc87c801fd61db3f6244    delivered 2018-06-09 17:00:00   \n",
       "117787  a68ce1686d536ca72bd2dadc4b8671e5      shipped 2016-10-05 01:47:00   \n",
       "118093  2ce9683175cdab7d1c95bcbb3e36f478     invoiced 2016-10-05 21:03:00   \n",
       "118187  e04f1da1f48bf2bbffcf57b9824f76e1     invoiced 2016-10-05 13:22:00   \n",
       "\n",
       "       order_estimated_delivery_date order_delivered_customer_date  \\\n",
       "0                         2017-09-29           2017-09-20 23:43:00   \n",
       "1                         2018-05-22           2018-05-09 17:36:00   \n",
       "2                         2018-08-13           2018-08-07 15:27:00   \n",
       "3                         2018-07-16           2018-06-29 20:32:00   \n",
       "4                         2017-05-15           2017-05-12 16:04:00   \n",
       "...                              ...                           ...   \n",
       "117602                    2017-08-25           2017-08-16 21:59:00   \n",
       "117603                    2018-06-28           2018-06-14 17:56:00   \n",
       "117787                    2016-12-01                           NaT   \n",
       "118093                    2016-11-25                           NaT   \n",
       "118187                    2016-11-29                           NaT   \n",
       "\n",
       "             price  freight_value payment_type  payment_value  \n",
       "0        58.900000      13.290000  credit_card          72.19  \n",
       "1        79.800000      19.530000  credit_card          99.33  \n",
       "2       118.700000      22.760000       boleto         141.46  \n",
       "3        17.000000       7.390000  credit_card          24.39  \n",
       "4       239.900000      19.930000  credit_card         259.83  \n",
       "...            ...            ...          ...            ...  \n",
       "117602   55.990000       8.720000  credit_card          64.71  \n",
       "117603   43.000000      12.790000  credit_card          55.79  \n",
       "117787   63.844468      13.885532       boleto          77.73  \n",
       "118093   59.992280      13.047720       boleto          73.04  \n",
       "118187   62.579570      13.610430  credit_card          76.19  \n",
       "\n",
       "[117034 rows x 9 columns]"
      ]
     },
     "execution_count": 432,
     "metadata": {},
     "output_type": "execute_result"
    }
   ],
   "source": [
    "olist_sales_approved = olist_sales[olist_sales['order_status'].isin(['delivered', 'invoiced', 'shipped', 'processing', 'approved'])]\n",
    "olist_sales_approved "
   ]
  },
  {
   "cell_type": "code",
   "execution_count": 433,
   "id": "e66c31f2-865d-43e5-9026-9b695027bc45",
   "metadata": {},
   "outputs": [
    {
     "name": "stdout",
     "output_type": "stream",
     "text": [
      "Number of orders approved is 117034.\n"
     ]
    }
   ],
   "source": [
    "no_orders_approved = olist_sales_approved.shape[0]\n",
    "print(f\"Number of orders approved is {no_orders_approved}.\")"
   ]
  },
  {
   "cell_type": "code",
   "execution_count": 434,
   "id": "6ac5276f-3db8-474f-a50a-e9065b110918",
   "metadata": {},
   "outputs": [
    {
     "name": "stdout",
     "output_type": "stream",
     "text": [
      "Expected Revenue of approved orders = 16,452,210.\n"
     ]
    }
   ],
   "source": [
    "expected_revenue = round(olist_sales_approved['price'].sum()+olist_sales_approved['freight_value'].sum())\n",
    "print(f\"Expected Revenue of approved orders = {format(expected_revenue,\",\")}.\")"
   ]
  },
  {
   "cell_type": "markdown",
   "id": "27a16aec-8143-4f9d-91c0-434fd6efa1d6",
   "metadata": {},
   "source": [
    " Canceled Orders:-"
   ]
  },
  {
   "cell_type": "code",
   "execution_count": 435,
   "id": "03d3b6d3-1751-4c03-b0d2-87eca605e181",
   "metadata": {},
   "outputs": [
    {
     "data": {
      "text/html": [
       "<div>\n",
       "<style scoped>\n",
       "    .dataframe tbody tr th:only-of-type {\n",
       "        vertical-align: middle;\n",
       "    }\n",
       "\n",
       "    .dataframe tbody tr th {\n",
       "        vertical-align: top;\n",
       "    }\n",
       "\n",
       "    .dataframe thead th {\n",
       "        text-align: right;\n",
       "    }\n",
       "</style>\n",
       "<table border=\"1\" class=\"dataframe\">\n",
       "  <thead>\n",
       "    <tr style=\"text-align: right;\">\n",
       "      <th></th>\n",
       "      <th>order_id</th>\n",
       "      <th>order_status</th>\n",
       "      <th>order_date</th>\n",
       "      <th>order_estimated_delivery_date</th>\n",
       "      <th>order_delivered_customer_date</th>\n",
       "      <th>price</th>\n",
       "      <th>freight_value</th>\n",
       "      <th>payment_type</th>\n",
       "      <th>payment_value</th>\n",
       "    </tr>\n",
       "  </thead>\n",
       "  <tbody>\n",
       "    <tr>\n",
       "      <th>69</th>\n",
       "      <td>5d9c5817e278892b7498d90bfa28ade8</td>\n",
       "      <td>canceled</td>\n",
       "      <td>2018-04-26 08:13:00</td>\n",
       "      <td>2018-05-10</td>\n",
       "      <td>NaT</td>\n",
       "      <td>110.900000</td>\n",
       "      <td>34.180000</td>\n",
       "      <td>credit_card</td>\n",
       "      <td>290.16</td>\n",
       "    </tr>\n",
       "    <tr>\n",
       "      <th>70</th>\n",
       "      <td>5d9c5817e278892b7498d90bfa28ade8</td>\n",
       "      <td>canceled</td>\n",
       "      <td>2018-04-26 08:13:00</td>\n",
       "      <td>2018-05-10</td>\n",
       "      <td>NaT</td>\n",
       "      <td>110.900000</td>\n",
       "      <td>34.180000</td>\n",
       "      <td>credit_card</td>\n",
       "      <td>290.16</td>\n",
       "    </tr>\n",
       "    <tr>\n",
       "      <th>369</th>\n",
       "      <td>00310b0c75bb13015ec4d82d341865a4</td>\n",
       "      <td>canceled</td>\n",
       "      <td>2018-08-15 14:29:00</td>\n",
       "      <td>2018-08-29</td>\n",
       "      <td>NaT</td>\n",
       "      <td>39.900000</td>\n",
       "      <td>15.380000</td>\n",
       "      <td>credit_card</td>\n",
       "      <td>55.28</td>\n",
       "    </tr>\n",
       "    <tr>\n",
       "      <th>987</th>\n",
       "      <td>61792c6272346d7f4b7c5b1747df7b1a</td>\n",
       "      <td>canceled</td>\n",
       "      <td>2017-03-08 11:51:00</td>\n",
       "      <td>2017-04-10</td>\n",
       "      <td>NaT</td>\n",
       "      <td>24.990000</td>\n",
       "      <td>24.350000</td>\n",
       "      <td>credit_card</td>\n",
       "      <td>49.34</td>\n",
       "    </tr>\n",
       "    <tr>\n",
       "      <th>1162</th>\n",
       "      <td>00ae7a8b4936674ebb701d4a23719a79</td>\n",
       "      <td>canceled</td>\n",
       "      <td>2018-05-09 14:14:00</td>\n",
       "      <td>2018-05-17</td>\n",
       "      <td>NaT</td>\n",
       "      <td>27.900000</td>\n",
       "      <td>9.260000</td>\n",
       "      <td>credit_card</td>\n",
       "      <td>37.16</td>\n",
       "    </tr>\n",
       "    <tr>\n",
       "      <th>...</th>\n",
       "      <td>...</td>\n",
       "      <td>...</td>\n",
       "      <td>...</td>\n",
       "      <td>...</td>\n",
       "      <td>...</td>\n",
       "      <td>...</td>\n",
       "      <td>...</td>\n",
       "      <td>...</td>\n",
       "      <td>...</td>\n",
       "    </tr>\n",
       "    <tr>\n",
       "      <th>118414</th>\n",
       "      <td>5a00b4d35edffc56b825c3646a99ba9d</td>\n",
       "      <td>canceled</td>\n",
       "      <td>2017-07-02 15:38:00</td>\n",
       "      <td>2017-07-25</td>\n",
       "      <td>NaT</td>\n",
       "      <td>129.060610</td>\n",
       "      <td>28.069390</td>\n",
       "      <td>credit_card</td>\n",
       "      <td>157.13</td>\n",
       "    </tr>\n",
       "    <tr>\n",
       "      <th>118419</th>\n",
       "      <td>227c804e2a44760671a6a5697ea549e4</td>\n",
       "      <td>canceled</td>\n",
       "      <td>2017-09-28 15:02:00</td>\n",
       "      <td>2017-10-16</td>\n",
       "      <td>NaT</td>\n",
       "      <td>230.145630</td>\n",
       "      <td>50.054370</td>\n",
       "      <td>credit_card</td>\n",
       "      <td>280.20</td>\n",
       "    </tr>\n",
       "    <tr>\n",
       "      <th>118424</th>\n",
       "      <td>e49e7ce1471b4693482d40c2bd3ad196</td>\n",
       "      <td>canceled</td>\n",
       "      <td>2018-08-07 11:16:00</td>\n",
       "      <td>2018-08-10</td>\n",
       "      <td>NaT</td>\n",
       "      <td>44.698520</td>\n",
       "      <td>9.721480</td>\n",
       "      <td>voucher</td>\n",
       "      <td>54.42</td>\n",
       "    </tr>\n",
       "    <tr>\n",
       "      <th>118430</th>\n",
       "      <td>3a3cddda5a7c27851bd96c3313412840</td>\n",
       "      <td>canceled</td>\n",
       "      <td>2018-08-31 16:13:00</td>\n",
       "      <td>2018-10-01</td>\n",
       "      <td>NaT</td>\n",
       "      <td>52.476818</td>\n",
       "      <td>11.413182</td>\n",
       "      <td>voucher</td>\n",
       "      <td>63.89</td>\n",
       "    </tr>\n",
       "    <tr>\n",
       "      <th>118431</th>\n",
       "      <td>a89abace0dcc01eeb267a9660b5ac126</td>\n",
       "      <td>canceled</td>\n",
       "      <td>2018-09-06 18:45:00</td>\n",
       "      <td>2018-09-27</td>\n",
       "      <td>NaT</td>\n",
       "      <td>87.992510</td>\n",
       "      <td>19.137490</td>\n",
       "      <td>voucher</td>\n",
       "      <td>107.13</td>\n",
       "    </tr>\n",
       "  </tbody>\n",
       "</table>\n",
       "<p>745 rows × 9 columns</p>\n",
       "</div>"
      ],
      "text/plain": [
       "                                order_id order_status          order_date  \\\n",
       "69      5d9c5817e278892b7498d90bfa28ade8     canceled 2018-04-26 08:13:00   \n",
       "70      5d9c5817e278892b7498d90bfa28ade8     canceled 2018-04-26 08:13:00   \n",
       "369     00310b0c75bb13015ec4d82d341865a4     canceled 2018-08-15 14:29:00   \n",
       "987     61792c6272346d7f4b7c5b1747df7b1a     canceled 2017-03-08 11:51:00   \n",
       "1162    00ae7a8b4936674ebb701d4a23719a79     canceled 2018-05-09 14:14:00   \n",
       "...                                  ...          ...                 ...   \n",
       "118414  5a00b4d35edffc56b825c3646a99ba9d     canceled 2017-07-02 15:38:00   \n",
       "118419  227c804e2a44760671a6a5697ea549e4     canceled 2017-09-28 15:02:00   \n",
       "118424  e49e7ce1471b4693482d40c2bd3ad196     canceled 2018-08-07 11:16:00   \n",
       "118430  3a3cddda5a7c27851bd96c3313412840     canceled 2018-08-31 16:13:00   \n",
       "118431  a89abace0dcc01eeb267a9660b5ac126     canceled 2018-09-06 18:45:00   \n",
       "\n",
       "       order_estimated_delivery_date order_delivered_customer_date  \\\n",
       "69                        2018-05-10                           NaT   \n",
       "70                        2018-05-10                           NaT   \n",
       "369                       2018-08-29                           NaT   \n",
       "987                       2017-04-10                           NaT   \n",
       "1162                      2018-05-17                           NaT   \n",
       "...                              ...                           ...   \n",
       "118414                    2017-07-25                           NaT   \n",
       "118419                    2017-10-16                           NaT   \n",
       "118424                    2018-08-10                           NaT   \n",
       "118430                    2018-10-01                           NaT   \n",
       "118431                    2018-09-27                           NaT   \n",
       "\n",
       "             price  freight_value payment_type  payment_value  \n",
       "69      110.900000      34.180000  credit_card         290.16  \n",
       "70      110.900000      34.180000  credit_card         290.16  \n",
       "369      39.900000      15.380000  credit_card          55.28  \n",
       "987      24.990000      24.350000  credit_card          49.34  \n",
       "1162     27.900000       9.260000  credit_card          37.16  \n",
       "...            ...            ...          ...            ...  \n",
       "118414  129.060610      28.069390  credit_card         157.13  \n",
       "118419  230.145630      50.054370  credit_card         280.20  \n",
       "118424   44.698520       9.721480      voucher          54.42  \n",
       "118430   52.476818      11.413182      voucher          63.89  \n",
       "118431   87.992510      19.137490      voucher         107.13  \n",
       "\n",
       "[745 rows x 9 columns]"
      ]
     },
     "execution_count": 435,
     "metadata": {},
     "output_type": "execute_result"
    }
   ],
   "source": [
    "olist_sales_canceled = olist_sales[olist_sales['order_status']==\"canceled\"]\n",
    "olist_sales_canceled"
   ]
  },
  {
   "cell_type": "code",
   "execution_count": 436,
   "id": "9ad4828f-98ec-4017-93b5-ba1b1cad830c",
   "metadata": {},
   "outputs": [
    {
     "name": "stdout",
     "output_type": "stream",
     "text": [
      "Number of orders canceled is 745.\n"
     ]
    }
   ],
   "source": [
    "no_orders_canceled = olist_sales_canceled.shape[0]\n",
    "print(f\"Number of orders canceled is {no_orders_canceled}.\")"
   ]
  },
  {
   "cell_type": "code",
   "execution_count": 437,
   "id": "d74f8728-6356-4032-9bd2-94751a6e6751",
   "metadata": {},
   "outputs": [
    {
     "name": "stdout",
     "output_type": "stream",
     "text": [
      "Percentage of canceled orders: 0.63%\n"
     ]
    }
   ],
   "source": [
    "no_orders = olist_sales.shape[0]\n",
    "percentage_canceled_orders = (no_orders_canceled/no_orders)*100\n",
    "print(f\"Percentage of canceled orders: {percentage_canceled_orders:.2f}%\")"
   ]
  },
  {
   "cell_type": "markdown",
   "id": "a900d888-dff0-49a3-8768-746d43e2d5a7",
   "metadata": {},
   "source": [
    " Late Deliveries:-"
   ]
  },
  {
   "cell_type": "code",
   "execution_count": 438,
   "id": "f3cf9d88-1568-4b73-b762-8a698a2f47b5",
   "metadata": {},
   "outputs": [
    {
     "name": "stdout",
     "output_type": "stream",
     "text": [
      "Number of orders that arrived late are 9027.\n"
     ]
    }
   ],
   "source": [
    "olist_sales_late_deliveries = olist_sales[olist_sales['order_delivered_customer_date']>olist_sales['order_estimated_delivery_date']]\n",
    "print(f\"Number of orders that arrived late are {olist_sales_late_deliveries.shape[0]}.\")"
   ]
  },
  {
   "cell_type": "code",
   "execution_count": 439,
   "id": "d78d7cf6-88b1-4011-adf6-704b7730fa41",
   "metadata": {},
   "outputs": [
    {
     "data": {
      "text/html": [
       "<div>\n",
       "<style scoped>\n",
       "    .dataframe tbody tr th:only-of-type {\n",
       "        vertical-align: middle;\n",
       "    }\n",
       "\n",
       "    .dataframe tbody tr th {\n",
       "        vertical-align: top;\n",
       "    }\n",
       "\n",
       "    .dataframe thead th {\n",
       "        text-align: right;\n",
       "    }\n",
       "</style>\n",
       "<table border=\"1\" class=\"dataframe\">\n",
       "  <thead>\n",
       "    <tr style=\"text-align: right;\">\n",
       "      <th></th>\n",
       "      <th>order_id</th>\n",
       "      <th>order_status</th>\n",
       "      <th>order_date</th>\n",
       "      <th>order_estimated_delivery_date</th>\n",
       "      <th>order_delivered_customer_date</th>\n",
       "      <th>price</th>\n",
       "      <th>freight_value</th>\n",
       "      <th>payment_type</th>\n",
       "      <th>payment_value</th>\n",
       "    </tr>\n",
       "  </thead>\n",
       "  <tbody>\n",
       "    <tr>\n",
       "      <th>12422</th>\n",
       "      <td>1950d777989f6a877539f53795b4c3c3</td>\n",
       "      <td>canceled</td>\n",
       "      <td>2018-02-19 19:48:00</td>\n",
       "      <td>2018-03-09</td>\n",
       "      <td>2018-03-21 22:03:00</td>\n",
       "      <td>29.99</td>\n",
       "      <td>14.1</td>\n",
       "      <td>credit_card</td>\n",
       "      <td>44.09</td>\n",
       "    </tr>\n",
       "  </tbody>\n",
       "</table>\n",
       "</div>"
      ],
      "text/plain": [
       "                               order_id order_status          order_date  \\\n",
       "12422  1950d777989f6a877539f53795b4c3c3     canceled 2018-02-19 19:48:00   \n",
       "\n",
       "      order_estimated_delivery_date order_delivered_customer_date  price  \\\n",
       "12422                    2018-03-09           2018-03-21 22:03:00  29.99   \n",
       "\n",
       "       freight_value payment_type  payment_value  \n",
       "12422           14.1  credit_card          44.09  "
      ]
     },
     "execution_count": 439,
     "metadata": {},
     "output_type": "execute_result"
    }
   ],
   "source": [
    "olist_sales[(olist_sales['order_status'] == \"canceled\" )&(olist_sales['order_delivered_customer_date']>olist_sales['order_estimated_delivery_date'])]"
   ]
  },
  {
   "cell_type": "markdown",
   "id": "c6009960-bd95-4ac8-89bc-70a15fe96a57",
   "metadata": {},
   "source": [
    "Given that from data exploration we found that there are 7 orders canceled after delivery, It seems that only one of them was delivered late."
   ]
  },
  {
   "cell_type": "code",
   "execution_count": 440,
   "id": "75d21869-dbed-4008-8363-a2b26494b762",
   "metadata": {},
   "outputs": [
    {
     "name": "stdout",
     "output_type": "stream",
     "text": [
      "Percentage of late deliveries: 7.85%\n"
     ]
    }
   ],
   "source": [
    "no_orders_delievered = olist_sales[olist_sales['order_delivered_customer_date'].notna()].shape[0]\n",
    "no_orders_delivered_late = olist_sales_late_deliveries.shape[0]\n",
    "percentage_late_delivery = (no_orders_delivered_late / no_orders_delievered) *100\n",
    "print(f\"Percentage of late deliveries: {percentage_late_delivery:.2f}%\")"
   ]
  },
  {
   "cell_type": "code",
   "execution_count": 441,
   "id": "253e7226-e10c-447c-9d6c-5c3948d005e7",
   "metadata": {},
   "outputs": [
    {
     "data": {
      "text/html": [
       "<div>\n",
       "<style scoped>\n",
       "    .dataframe tbody tr th:only-of-type {\n",
       "        vertical-align: middle;\n",
       "    }\n",
       "\n",
       "    .dataframe tbody tr th {\n",
       "        vertical-align: top;\n",
       "    }\n",
       "\n",
       "    .dataframe thead th {\n",
       "        text-align: right;\n",
       "    }\n",
       "</style>\n",
       "<table border=\"1\" class=\"dataframe\">\n",
       "  <thead>\n",
       "    <tr style=\"text-align: right;\">\n",
       "      <th></th>\n",
       "      <th>order_id</th>\n",
       "      <th>order_status</th>\n",
       "      <th>order_date</th>\n",
       "      <th>order_estimated_delivery_date</th>\n",
       "      <th>order_delivered_customer_date</th>\n",
       "      <th>price</th>\n",
       "      <th>freight_value</th>\n",
       "      <th>payment_type</th>\n",
       "      <th>payment_value</th>\n",
       "      <th>late_delivery</th>\n",
       "    </tr>\n",
       "  </thead>\n",
       "  <tbody>\n",
       "    <tr>\n",
       "      <th>0</th>\n",
       "      <td>00010242fe8c5a6d1ba2dd792cb16214</td>\n",
       "      <td>delivered</td>\n",
       "      <td>2017-09-13 08:59:00</td>\n",
       "      <td>2017-09-29</td>\n",
       "      <td>2017-09-20 23:43:00</td>\n",
       "      <td>58.900000</td>\n",
       "      <td>13.290000</td>\n",
       "      <td>credit_card</td>\n",
       "      <td>72.19</td>\n",
       "      <td>on time</td>\n",
       "    </tr>\n",
       "    <tr>\n",
       "      <th>1</th>\n",
       "      <td>b81ef226f3fe1789b1e8b2acac839d17</td>\n",
       "      <td>delivered</td>\n",
       "      <td>2018-04-25 22:01:00</td>\n",
       "      <td>2018-05-22</td>\n",
       "      <td>2018-05-09 17:36:00</td>\n",
       "      <td>79.800000</td>\n",
       "      <td>19.530000</td>\n",
       "      <td>credit_card</td>\n",
       "      <td>99.33</td>\n",
       "      <td>on time</td>\n",
       "    </tr>\n",
       "    <tr>\n",
       "      <th>2</th>\n",
       "      <td>53cdb2fc8bc7dce0b6741e2150273451</td>\n",
       "      <td>delivered</td>\n",
       "      <td>2018-07-24 20:41:00</td>\n",
       "      <td>2018-08-13</td>\n",
       "      <td>2018-08-07 15:27:00</td>\n",
       "      <td>118.700000</td>\n",
       "      <td>22.760000</td>\n",
       "      <td>boleto</td>\n",
       "      <td>141.46</td>\n",
       "      <td>on time</td>\n",
       "    </tr>\n",
       "    <tr>\n",
       "      <th>3</th>\n",
       "      <td>a9810da82917af2d9aefd1278f1dcfa0</td>\n",
       "      <td>delivered</td>\n",
       "      <td>2018-06-26 11:01:00</td>\n",
       "      <td>2018-07-16</td>\n",
       "      <td>2018-06-29 20:32:00</td>\n",
       "      <td>17.000000</td>\n",
       "      <td>7.390000</td>\n",
       "      <td>credit_card</td>\n",
       "      <td>24.39</td>\n",
       "      <td>on time</td>\n",
       "    </tr>\n",
       "    <tr>\n",
       "      <th>4</th>\n",
       "      <td>00018f77f2f0320c557190d7a144bdd3</td>\n",
       "      <td>delivered</td>\n",
       "      <td>2017-04-26 10:53:00</td>\n",
       "      <td>2017-05-15</td>\n",
       "      <td>2017-05-12 16:04:00</td>\n",
       "      <td>239.900000</td>\n",
       "      <td>19.930000</td>\n",
       "      <td>credit_card</td>\n",
       "      <td>259.83</td>\n",
       "      <td>on time</td>\n",
       "    </tr>\n",
       "    <tr>\n",
       "      <th>...</th>\n",
       "      <td>...</td>\n",
       "      <td>...</td>\n",
       "      <td>...</td>\n",
       "      <td>...</td>\n",
       "      <td>...</td>\n",
       "      <td>...</td>\n",
       "      <td>...</td>\n",
       "      <td>...</td>\n",
       "      <td>...</td>\n",
       "      <td>...</td>\n",
       "    </tr>\n",
       "    <tr>\n",
       "      <th>118429</th>\n",
       "      <td>aaab15da689073f8f9aa978a390a69d1</td>\n",
       "      <td>unavailable</td>\n",
       "      <td>2018-01-16 14:27:00</td>\n",
       "      <td>2018-02-06</td>\n",
       "      <td>NaT</td>\n",
       "      <td>172.559941</td>\n",
       "      <td>37.530059</td>\n",
       "      <td>boleto</td>\n",
       "      <td>210.09</td>\n",
       "      <td>on time</td>\n",
       "    </tr>\n",
       "    <tr>\n",
       "      <th>118430</th>\n",
       "      <td>3a3cddda5a7c27851bd96c3313412840</td>\n",
       "      <td>canceled</td>\n",
       "      <td>2018-08-31 16:13:00</td>\n",
       "      <td>2018-10-01</td>\n",
       "      <td>NaT</td>\n",
       "      <td>52.476818</td>\n",
       "      <td>11.413182</td>\n",
       "      <td>voucher</td>\n",
       "      <td>63.89</td>\n",
       "      <td>on time</td>\n",
       "    </tr>\n",
       "    <tr>\n",
       "      <th>118431</th>\n",
       "      <td>a89abace0dcc01eeb267a9660b5ac126</td>\n",
       "      <td>canceled</td>\n",
       "      <td>2018-09-06 18:45:00</td>\n",
       "      <td>2018-09-27</td>\n",
       "      <td>NaT</td>\n",
       "      <td>87.992510</td>\n",
       "      <td>19.137490</td>\n",
       "      <td>voucher</td>\n",
       "      <td>107.13</td>\n",
       "      <td>on time</td>\n",
       "    </tr>\n",
       "    <tr>\n",
       "      <th>118432</th>\n",
       "      <td>a69ba794cc7deb415c3e15a0a3877e69</td>\n",
       "      <td>unavailable</td>\n",
       "      <td>2017-08-23 16:28:00</td>\n",
       "      <td>2017-09-15</td>\n",
       "      <td>NaT</td>\n",
       "      <td>160.913028</td>\n",
       "      <td>34.996972</td>\n",
       "      <td>credit_card</td>\n",
       "      <td>195.91</td>\n",
       "      <td>on time</td>\n",
       "    </tr>\n",
       "    <tr>\n",
       "      <th>118433</th>\n",
       "      <td>5fabc81b6322c8443648e1b21a6fef21</td>\n",
       "      <td>unavailable</td>\n",
       "      <td>2017-10-10 10:50:00</td>\n",
       "      <td>2017-10-23</td>\n",
       "      <td>NaT</td>\n",
       "      <td>110.037866</td>\n",
       "      <td>23.932134</td>\n",
       "      <td>boleto</td>\n",
       "      <td>133.97</td>\n",
       "      <td>on time</td>\n",
       "    </tr>\n",
       "  </tbody>\n",
       "</table>\n",
       "<p>118434 rows × 10 columns</p>\n",
       "</div>"
      ],
      "text/plain": [
       "                                order_id order_status          order_date  \\\n",
       "0       00010242fe8c5a6d1ba2dd792cb16214    delivered 2017-09-13 08:59:00   \n",
       "1       b81ef226f3fe1789b1e8b2acac839d17    delivered 2018-04-25 22:01:00   \n",
       "2       53cdb2fc8bc7dce0b6741e2150273451    delivered 2018-07-24 20:41:00   \n",
       "3       a9810da82917af2d9aefd1278f1dcfa0    delivered 2018-06-26 11:01:00   \n",
       "4       00018f77f2f0320c557190d7a144bdd3    delivered 2017-04-26 10:53:00   \n",
       "...                                  ...          ...                 ...   \n",
       "118429  aaab15da689073f8f9aa978a390a69d1  unavailable 2018-01-16 14:27:00   \n",
       "118430  3a3cddda5a7c27851bd96c3313412840     canceled 2018-08-31 16:13:00   \n",
       "118431  a89abace0dcc01eeb267a9660b5ac126     canceled 2018-09-06 18:45:00   \n",
       "118432  a69ba794cc7deb415c3e15a0a3877e69  unavailable 2017-08-23 16:28:00   \n",
       "118433  5fabc81b6322c8443648e1b21a6fef21  unavailable 2017-10-10 10:50:00   \n",
       "\n",
       "       order_estimated_delivery_date order_delivered_customer_date  \\\n",
       "0                         2017-09-29           2017-09-20 23:43:00   \n",
       "1                         2018-05-22           2018-05-09 17:36:00   \n",
       "2                         2018-08-13           2018-08-07 15:27:00   \n",
       "3                         2018-07-16           2018-06-29 20:32:00   \n",
       "4                         2017-05-15           2017-05-12 16:04:00   \n",
       "...                              ...                           ...   \n",
       "118429                    2018-02-06                           NaT   \n",
       "118430                    2018-10-01                           NaT   \n",
       "118431                    2018-09-27                           NaT   \n",
       "118432                    2017-09-15                           NaT   \n",
       "118433                    2017-10-23                           NaT   \n",
       "\n",
       "             price  freight_value payment_type  payment_value late_delivery  \n",
       "0        58.900000      13.290000  credit_card          72.19       on time  \n",
       "1        79.800000      19.530000  credit_card          99.33       on time  \n",
       "2       118.700000      22.760000       boleto         141.46       on time  \n",
       "3        17.000000       7.390000  credit_card          24.39       on time  \n",
       "4       239.900000      19.930000  credit_card         259.83       on time  \n",
       "...            ...            ...          ...            ...           ...  \n",
       "118429  172.559941      37.530059       boleto         210.09       on time  \n",
       "118430   52.476818      11.413182      voucher          63.89       on time  \n",
       "118431   87.992510      19.137490      voucher         107.13       on time  \n",
       "118432  160.913028      34.996972  credit_card         195.91       on time  \n",
       "118433  110.037866      23.932134       boleto         133.97       on time  \n",
       "\n",
       "[118434 rows x 10 columns]"
      ]
     },
     "execution_count": 441,
     "metadata": {},
     "output_type": "execute_result"
    }
   ],
   "source": [
    "olist_sales['late_delivery']= olist_sales.apply( lambda x: \"late\" if x['order_delivered_customer_date']>x['order_estimated_delivery_date'] else \"on time\", axis = 1)\n",
    "olist_sales"
   ]
  },
  {
   "cell_type": "code",
   "execution_count": 442,
   "id": "0bc82484-8400-4c7f-9ea9-d68a0d7ca15e",
   "metadata": {},
   "outputs": [
    {
     "data": {
      "image/png": "[encoded data removed]",
      "text/plain": [
       "<Figure size 640x480 with 1 Axes>"
      ]
     },
     "metadata": {},
     "output_type": "display_data"
    }
   ],
   "source": [
    "delivery_status = olist_sales['late_delivery'].value_counts()\n",
    "plt.pie(delivery_status, labels = delivery_status.index, autopct='%1.1f%%', colors = (\"#A25F5B\",\"#D3D3D3\"))\n",
    "plt.title(\"Late vs. On-Time Deliveries\")\n",
    "plt.show()"
   ]
  },
  {
   "cell_type": "markdown",
   "id": "02fc6d0b-17c2-42c0-ab21-ec821588981e",
   "metadata": {},
   "source": [
    "#### Payment Accuracy"
   ]
  },
  {
   "cell_type": "code",
   "execution_count": 443,
   "id": "42da8e7f-5bff-46e8-ad21-a41cefc5e9b3",
   "metadata": {},
   "outputs": [
    {
     "name": "stdout",
     "output_type": "stream",
     "text": [
      "Total expected payment =  16,112,784.\n"
     ]
    }
   ],
   "source": [
    "total_expected_payment = round(olist_sales['price'].sum()+olist_sales['freight_value'].sum())\n",
    "print(f\"Total expected payment = {total_revenue: ,}.\")"
   ]
  },
  {
   "cell_type": "code",
   "execution_count": 444,
   "id": "4f454dc2-70ea-4f31-a40b-7312b1171459",
   "metadata": {},
   "outputs": [
    {
     "name": "stdout",
     "output_type": "stream",
     "text": [
      "Total Payment =  20,470,727\n"
     ]
    }
   ],
   "source": [
    "total_payment = olist_sales['payment_value'].sum()\n",
    "print(f\"Total Payment = {total_payment: ,.0f}\")"
   ]
  },
  {
   "cell_type": "code",
   "execution_count": 445,
   "id": "7effdc09-bb24-4f93-8c40-dd28d88e0afb",
   "metadata": {},
   "outputs": [
    {
     "name": "stdout",
     "output_type": "stream",
     "text": [
      "There is about  3,741,448 overpayment.\n"
     ]
    }
   ],
   "source": [
    "payment_diff = total_payment - total_expected_payment\n",
    "print(f\"There is about {payment_diff : ,.0f} overpayment.\")"
   ]
  },
  {
   "cell_type": "markdown",
   "id": "e6df148c-27e2-4b40-af42-724123306607",
   "metadata": {},
   "source": [
    "Given the overpayment from both delivered and other non-deliveried orders, there is a chance there is an overpayment for some transactions."
   ]
  },
  {
   "cell_type": "code",
   "execution_count": 446,
   "id": "51c3574e-eee8-40e3-8fee-097b2572b2a9",
   "metadata": {},
   "outputs": [
    {
     "data": {
      "text/html": [
       "<div>\n",
       "<style scoped>\n",
       "    .dataframe tbody tr th:only-of-type {\n",
       "        vertical-align: middle;\n",
       "    }\n",
       "\n",
       "    .dataframe tbody tr th {\n",
       "        vertical-align: top;\n",
       "    }\n",
       "\n",
       "    .dataframe thead th {\n",
       "        text-align: right;\n",
       "    }\n",
       "</style>\n",
       "<table border=\"1\" class=\"dataframe\">\n",
       "  <thead>\n",
       "    <tr style=\"text-align: right;\">\n",
       "      <th></th>\n",
       "      <th>order_id</th>\n",
       "      <th>order_status</th>\n",
       "      <th>order_date</th>\n",
       "      <th>order_estimated_delivery_date</th>\n",
       "      <th>order_delivered_customer_date</th>\n",
       "      <th>price</th>\n",
       "      <th>freight_value</th>\n",
       "      <th>payment_type</th>\n",
       "      <th>payment_value</th>\n",
       "      <th>late_delivery</th>\n",
       "      <th>payment_diff</th>\n",
       "    </tr>\n",
       "  </thead>\n",
       "  <tbody>\n",
       "    <tr>\n",
       "      <th>0</th>\n",
       "      <td>00010242fe8c5a6d1ba2dd792cb16214</td>\n",
       "      <td>delivered</td>\n",
       "      <td>2017-09-13 08:59:00</td>\n",
       "      <td>2017-09-29</td>\n",
       "      <td>2017-09-20 23:43:00</td>\n",
       "      <td>58.900000</td>\n",
       "      <td>13.290000</td>\n",
       "      <td>credit_card</td>\n",
       "      <td>72.19</td>\n",
       "      <td>on time</td>\n",
       "      <td>0.0</td>\n",
       "    </tr>\n",
       "    <tr>\n",
       "      <th>1</th>\n",
       "      <td>b81ef226f3fe1789b1e8b2acac839d17</td>\n",
       "      <td>delivered</td>\n",
       "      <td>2018-04-25 22:01:00</td>\n",
       "      <td>2018-05-22</td>\n",
       "      <td>2018-05-09 17:36:00</td>\n",
       "      <td>79.800000</td>\n",
       "      <td>19.530000</td>\n",
       "      <td>credit_card</td>\n",
       "      <td>99.33</td>\n",
       "      <td>on time</td>\n",
       "      <td>0.0</td>\n",
       "    </tr>\n",
       "    <tr>\n",
       "      <th>2</th>\n",
       "      <td>53cdb2fc8bc7dce0b6741e2150273451</td>\n",
       "      <td>delivered</td>\n",
       "      <td>2018-07-24 20:41:00</td>\n",
       "      <td>2018-08-13</td>\n",
       "      <td>2018-08-07 15:27:00</td>\n",
       "      <td>118.700000</td>\n",
       "      <td>22.760000</td>\n",
       "      <td>boleto</td>\n",
       "      <td>141.46</td>\n",
       "      <td>on time</td>\n",
       "      <td>0.0</td>\n",
       "    </tr>\n",
       "    <tr>\n",
       "      <th>3</th>\n",
       "      <td>a9810da82917af2d9aefd1278f1dcfa0</td>\n",
       "      <td>delivered</td>\n",
       "      <td>2018-06-26 11:01:00</td>\n",
       "      <td>2018-07-16</td>\n",
       "      <td>2018-06-29 20:32:00</td>\n",
       "      <td>17.000000</td>\n",
       "      <td>7.390000</td>\n",
       "      <td>credit_card</td>\n",
       "      <td>24.39</td>\n",
       "      <td>on time</td>\n",
       "      <td>0.0</td>\n",
       "    </tr>\n",
       "    <tr>\n",
       "      <th>4</th>\n",
       "      <td>00018f77f2f0320c557190d7a144bdd3</td>\n",
       "      <td>delivered</td>\n",
       "      <td>2017-04-26 10:53:00</td>\n",
       "      <td>2017-05-15</td>\n",
       "      <td>2017-05-12 16:04:00</td>\n",
       "      <td>239.900000</td>\n",
       "      <td>19.930000</td>\n",
       "      <td>credit_card</td>\n",
       "      <td>259.83</td>\n",
       "      <td>on time</td>\n",
       "      <td>0.0</td>\n",
       "    </tr>\n",
       "    <tr>\n",
       "      <th>...</th>\n",
       "      <td>...</td>\n",
       "      <td>...</td>\n",
       "      <td>...</td>\n",
       "      <td>...</td>\n",
       "      <td>...</td>\n",
       "      <td>...</td>\n",
       "      <td>...</td>\n",
       "      <td>...</td>\n",
       "      <td>...</td>\n",
       "      <td>...</td>\n",
       "      <td>...</td>\n",
       "    </tr>\n",
       "    <tr>\n",
       "      <th>118429</th>\n",
       "      <td>aaab15da689073f8f9aa978a390a69d1</td>\n",
       "      <td>unavailable</td>\n",
       "      <td>2018-01-16 14:27:00</td>\n",
       "      <td>2018-02-06</td>\n",
       "      <td>NaT</td>\n",
       "      <td>172.559941</td>\n",
       "      <td>37.530059</td>\n",
       "      <td>boleto</td>\n",
       "      <td>210.09</td>\n",
       "      <td>on time</td>\n",
       "      <td>0.0</td>\n",
       "    </tr>\n",
       "    <tr>\n",
       "      <th>118430</th>\n",
       "      <td>3a3cddda5a7c27851bd96c3313412840</td>\n",
       "      <td>canceled</td>\n",
       "      <td>2018-08-31 16:13:00</td>\n",
       "      <td>2018-10-01</td>\n",
       "      <td>NaT</td>\n",
       "      <td>52.476818</td>\n",
       "      <td>11.413182</td>\n",
       "      <td>voucher</td>\n",
       "      <td>63.89</td>\n",
       "      <td>on time</td>\n",
       "      <td>0.0</td>\n",
       "    </tr>\n",
       "    <tr>\n",
       "      <th>118431</th>\n",
       "      <td>a89abace0dcc01eeb267a9660b5ac126</td>\n",
       "      <td>canceled</td>\n",
       "      <td>2018-09-06 18:45:00</td>\n",
       "      <td>2018-09-27</td>\n",
       "      <td>NaT</td>\n",
       "      <td>87.992510</td>\n",
       "      <td>19.137490</td>\n",
       "      <td>voucher</td>\n",
       "      <td>107.13</td>\n",
       "      <td>on time</td>\n",
       "      <td>0.0</td>\n",
       "    </tr>\n",
       "    <tr>\n",
       "      <th>118432</th>\n",
       "      <td>a69ba794cc7deb415c3e15a0a3877e69</td>\n",
       "      <td>unavailable</td>\n",
       "      <td>2017-08-23 16:28:00</td>\n",
       "      <td>2017-09-15</td>\n",
       "      <td>NaT</td>\n",
       "      <td>160.913028</td>\n",
       "      <td>34.996972</td>\n",
       "      <td>credit_card</td>\n",
       "      <td>195.91</td>\n",
       "      <td>on time</td>\n",
       "      <td>0.0</td>\n",
       "    </tr>\n",
       "    <tr>\n",
       "      <th>118433</th>\n",
       "      <td>5fabc81b6322c8443648e1b21a6fef21</td>\n",
       "      <td>unavailable</td>\n",
       "      <td>2017-10-10 10:50:00</td>\n",
       "      <td>2017-10-23</td>\n",
       "      <td>NaT</td>\n",
       "      <td>110.037866</td>\n",
       "      <td>23.932134</td>\n",
       "      <td>boleto</td>\n",
       "      <td>133.97</td>\n",
       "      <td>on time</td>\n",
       "      <td>0.0</td>\n",
       "    </tr>\n",
       "  </tbody>\n",
       "</table>\n",
       "<p>118434 rows × 11 columns</p>\n",
       "</div>"
      ],
      "text/plain": [
       "                                order_id order_status          order_date  \\\n",
       "0       00010242fe8c5a6d1ba2dd792cb16214    delivered 2017-09-13 08:59:00   \n",
       "1       b81ef226f3fe1789b1e8b2acac839d17    delivered 2018-04-25 22:01:00   \n",
       "2       53cdb2fc8bc7dce0b6741e2150273451    delivered 2018-07-24 20:41:00   \n",
       "3       a9810da82917af2d9aefd1278f1dcfa0    delivered 2018-06-26 11:01:00   \n",
       "4       00018f77f2f0320c557190d7a144bdd3    delivered 2017-04-26 10:53:00   \n",
       "...                                  ...          ...                 ...   \n",
       "118429  aaab15da689073f8f9aa978a390a69d1  unavailable 2018-01-16 14:27:00   \n",
       "118430  3a3cddda5a7c27851bd96c3313412840     canceled 2018-08-31 16:13:00   \n",
       "118431  a89abace0dcc01eeb267a9660b5ac126     canceled 2018-09-06 18:45:00   \n",
       "118432  a69ba794cc7deb415c3e15a0a3877e69  unavailable 2017-08-23 16:28:00   \n",
       "118433  5fabc81b6322c8443648e1b21a6fef21  unavailable 2017-10-10 10:50:00   \n",
       "\n",
       "       order_estimated_delivery_date order_delivered_customer_date  \\\n",
       "0                         2017-09-29           2017-09-20 23:43:00   \n",
       "1                         2018-05-22           2018-05-09 17:36:00   \n",
       "2                         2018-08-13           2018-08-07 15:27:00   \n",
       "3                         2018-07-16           2018-06-29 20:32:00   \n",
       "4                         2017-05-15           2017-05-12 16:04:00   \n",
       "...                              ...                           ...   \n",
       "118429                    2018-02-06                           NaT   \n",
       "118430                    2018-10-01                           NaT   \n",
       "118431                    2018-09-27                           NaT   \n",
       "118432                    2017-09-15                           NaT   \n",
       "118433                    2017-10-23                           NaT   \n",
       "\n",
       "             price  freight_value payment_type  payment_value late_delivery  \\\n",
       "0        58.900000      13.290000  credit_card          72.19       on time   \n",
       "1        79.800000      19.530000  credit_card          99.33       on time   \n",
       "2       118.700000      22.760000       boleto         141.46       on time   \n",
       "3        17.000000       7.390000  credit_card          24.39       on time   \n",
       "4       239.900000      19.930000  credit_card         259.83       on time   \n",
       "...            ...            ...          ...            ...           ...   \n",
       "118429  172.559941      37.530059       boleto         210.09       on time   \n",
       "118430   52.476818      11.413182      voucher          63.89       on time   \n",
       "118431   87.992510      19.137490      voucher         107.13       on time   \n",
       "118432  160.913028      34.996972  credit_card         195.91       on time   \n",
       "118433  110.037866      23.932134       boleto         133.97       on time   \n",
       "\n",
       "        payment_diff  \n",
       "0                0.0  \n",
       "1                0.0  \n",
       "2                0.0  \n",
       "3                0.0  \n",
       "4                0.0  \n",
       "...              ...  \n",
       "118429           0.0  \n",
       "118430           0.0  \n",
       "118431           0.0  \n",
       "118432           0.0  \n",
       "118433           0.0  \n",
       "\n",
       "[118434 rows x 11 columns]"
      ]
     },
     "execution_count": 446,
     "metadata": {},
     "output_type": "execute_result"
    }
   ],
   "source": [
    "olist_sales['payment_diff']=round((olist_sales['price']+olist_sales['freight_value'])-olist_sales['payment_value'])\n",
    "olist_sales"
   ]
  },
  {
   "cell_type": "code",
   "execution_count": 447,
   "id": "b9126c91-8092-4ae0-8627-6a93a80bdfa6",
   "metadata": {},
   "outputs": [
    {
     "data": {
      "text/plain": [
       "payment_accuracy\n",
       "accurate payment    86906\n",
       "overpayment          7560\n",
       "underpayment        23968\n",
       "dtype: int64"
      ]
     },
     "execution_count": 447,
     "metadata": {},
     "output_type": "execute_result"
    }
   ],
   "source": [
    "olist_sales['payment_accuracy']= olist_sales['payment_diff'].apply(lambda x: \"overpayment\" if x > 0 else (\"underpayment\" if x < 0 else \"accurate payment\"))\n",
    "olist_sales.groupby('payment_accuracy').size()"
   ]
  },
  {
   "cell_type": "markdown",
   "id": "31c6ca19-31d7-402b-8402-a7704f21e563",
   "metadata": {},
   "source": [
    "##### This indicates that  7560 orders had inaccurate payments."
   ]
  },
  {
   "cell_type": "code",
   "execution_count": 448,
   "id": "b60ac9d0-1967-4d45-845c-594575e5753b",
   "metadata": {},
   "outputs": [
    {
     "name": "stdout",
     "output_type": "stream",
     "text": [
      "Percentage of payment accuracy: 73.38%\n"
     ]
    }
   ],
   "source": [
    "accurate_payment = olist_sales[olist_sales['payment_accuracy']== \"accurate payment\"].shape[0]\n",
    "overpayment = olist_sales[olist_sales['payment_accuracy']== \"overpayment \"].shape[0]\n",
    "underpayment = olist_sales[olist_sales['payment_accuracy']== \"underpayment\"].shape[0]\n",
    "accuracy_percentage = (accurate_payment/(accurate_payment+inaccurate_payment+underpayment))*100\n",
    "print(f\"Percentage of payment accuracy: {accuracy_percentage:.2f}%\")"
   ]
  },
  {
   "cell_type": "code",
   "execution_count": 449,
   "id": "55f00b45-5666-40a7-bf18-b2f881f14be7",
   "metadata": {},
   "outputs": [
    {
     "data": {
      "image/png": "[encoded data removed]",
      "text/plain": [
       "<Figure size 640x480 with 1 Axes>"
      ]
     },
     "metadata": {},
     "output_type": "display_data"
    }
   ],
   "source": [
    "payment_accuracy = olist_sales['payment_accuracy'].value_counts()\n",
    "plt.pie(payment_accuracy, labels = payment_accuracy.index, autopct='%1.1f%%', colors = (\"#6E3D3A\",\"#A25F5B\",\"#D3D3D3\"))\n",
    "plt.title(\"Accurate vs. Inaccurate Payments\")\n",
    "plt.show()"
   ]
  },
  {
   "cell_type": "markdown",
   "id": "11f793b7-c883-47bf-8d39-86f1d1fab669",
   "metadata": {},
   "source": [
    "### Saving Cleaned Data with custom columns"
   ]
  },
  {
   "cell_type": "code",
   "execution_count": 450,
   "id": "eb443537-5639-476f-8044-736f3bd99f53",
   "metadata": {},
   "outputs": [],
   "source": [
    "olist_sales.to_csv(\"custom_cleaned_olist_sales.csv\",index=False)"
   ]
  }
 ],
 "metadata": {
  "kernelspec": {
   "display_name": "Python 3 (ipykernel)",
   "language": "python",
   "name": "python3"
  },
  "language_info": {
   "codemirror_mode": {
    "name": "ipython",
    "version": 3
   },
   "file_extension": ".py",
   "mimetype": "text/x-python",
   "name": "python",
   "nbconvert_exporter": "python",
   "pygments_lexer": "ipython3",
   "version": "3.13.1"
  }
 },
 "nbformat": 4,
 "nbformat_minor": 5
}
